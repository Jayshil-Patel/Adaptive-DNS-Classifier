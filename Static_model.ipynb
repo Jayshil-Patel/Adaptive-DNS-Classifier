{
 "cells": [
  {
   "cell_type": "markdown",
   "id": "8d2bffe6",
   "metadata": {},
   "source": [
    "# Importing Libraries"
   ]
  },
  {
   "cell_type": "code",
   "execution_count": 1,
   "id": "3ab8065a",
   "metadata": {},
   "outputs": [
    {
     "name": "stderr",
     "output_type": "stream",
     "text": [
      "d:\\softwares\\Python\\lib\\site-packages\\scipy\\__init__.py:146: UserWarning: A NumPy version >=1.16.5 and <1.23.0 is required for this version of SciPy (detected version 1.23.4\n",
      "  warnings.warn(f\"A NumPy version >={np_minversion} and <{np_maxversion}\"\n"
     ]
    }
   ],
   "source": [
    "import pandas as pd\n",
    "import numpy as np\n",
    "import matplotlib.pyplot as plt\n",
    "import seaborn as sns \n",
    "from sklearn.model_selection import train_test_split\n",
    "from sklearn.feature_extraction import FeatureHasher\n",
    "from sklearn.metrics import plot_confusion_matrix\n",
    "from sklearn.metrics import confusion_matrix\n"
   ]
  },
  {
   "cell_type": "markdown",
   "id": "6007d595",
   "metadata": {},
   "source": [
    "# Data evaluation"
   ]
  },
  {
   "cell_type": "code",
   "execution_count": 2,
   "id": "5f2c1720",
   "metadata": {},
   "outputs": [],
   "source": [
    "df =  pd.read_csv(\"Static_dataset.csv\")"
   ]
  },
  {
   "cell_type": "code",
   "execution_count": 3,
   "id": "21c82817",
   "metadata": {},
   "outputs": [
    {
     "data": {
      "text/html": [
       "<div>\n",
       "<style scoped>\n",
       "    .dataframe tbody tr th:only-of-type {\n",
       "        vertical-align: middle;\n",
       "    }\n",
       "\n",
       "    .dataframe tbody tr th {\n",
       "        vertical-align: top;\n",
       "    }\n",
       "\n",
       "    .dataframe thead th {\n",
       "        text-align: right;\n",
       "    }\n",
       "</style>\n",
       "<table border=\"1\" class=\"dataframe\">\n",
       "  <thead>\n",
       "    <tr style=\"text-align: right;\">\n",
       "      <th></th>\n",
       "      <th>timestamp</th>\n",
       "      <th>FQDN_count</th>\n",
       "      <th>subdomain_length</th>\n",
       "      <th>upper</th>\n",
       "      <th>lower</th>\n",
       "      <th>numeric</th>\n",
       "      <th>entropy</th>\n",
       "      <th>special</th>\n",
       "      <th>labels</th>\n",
       "      <th>labels_max</th>\n",
       "      <th>labels_average</th>\n",
       "      <th>longest_word</th>\n",
       "      <th>sld</th>\n",
       "      <th>len</th>\n",
       "      <th>subdomain</th>\n",
       "      <th>Target Attack</th>\n",
       "    </tr>\n",
       "  </thead>\n",
       "  <tbody>\n",
       "    <tr>\n",
       "      <th>0</th>\n",
       "      <td>56:19.8</td>\n",
       "      <td>27</td>\n",
       "      <td>10</td>\n",
       "      <td>0</td>\n",
       "      <td>10</td>\n",
       "      <td>11</td>\n",
       "      <td>2.570417</td>\n",
       "      <td>6</td>\n",
       "      <td>6</td>\n",
       "      <td>7</td>\n",
       "      <td>3.666667</td>\n",
       "      <td>2</td>\n",
       "      <td>192</td>\n",
       "      <td>14</td>\n",
       "      <td>1</td>\n",
       "      <td>1</td>\n",
       "    </tr>\n",
       "    <tr>\n",
       "      <th>1</th>\n",
       "      <td>07:23.9</td>\n",
       "      <td>27</td>\n",
       "      <td>10</td>\n",
       "      <td>0</td>\n",
       "      <td>10</td>\n",
       "      <td>11</td>\n",
       "      <td>2.767195</td>\n",
       "      <td>6</td>\n",
       "      <td>6</td>\n",
       "      <td>7</td>\n",
       "      <td>3.666667</td>\n",
       "      <td>2</td>\n",
       "      <td>192</td>\n",
       "      <td>14</td>\n",
       "      <td>1</td>\n",
       "      <td>1</td>\n",
       "    </tr>\n",
       "    <tr>\n",
       "      <th>2</th>\n",
       "      <td>23:15.1</td>\n",
       "      <td>26</td>\n",
       "      <td>9</td>\n",
       "      <td>0</td>\n",
       "      <td>10</td>\n",
       "      <td>10</td>\n",
       "      <td>2.742338</td>\n",
       "      <td>6</td>\n",
       "      <td>6</td>\n",
       "      <td>7</td>\n",
       "      <td>3.500000</td>\n",
       "      <td>2</td>\n",
       "      <td>192</td>\n",
       "      <td>13</td>\n",
       "      <td>1</td>\n",
       "      <td>0</td>\n",
       "    </tr>\n",
       "    <tr>\n",
       "      <th>3</th>\n",
       "      <td>04:51.9</td>\n",
       "      <td>27</td>\n",
       "      <td>10</td>\n",
       "      <td>0</td>\n",
       "      <td>10</td>\n",
       "      <td>11</td>\n",
       "      <td>2.570417</td>\n",
       "      <td>6</td>\n",
       "      <td>6</td>\n",
       "      <td>7</td>\n",
       "      <td>3.666667</td>\n",
       "      <td>2</td>\n",
       "      <td>192</td>\n",
       "      <td>14</td>\n",
       "      <td>1</td>\n",
       "      <td>1</td>\n",
       "    </tr>\n",
       "    <tr>\n",
       "      <th>4</th>\n",
       "      <td>12:44.0</td>\n",
       "      <td>15</td>\n",
       "      <td>9</td>\n",
       "      <td>0</td>\n",
       "      <td>11</td>\n",
       "      <td>0</td>\n",
       "      <td>2.929439</td>\n",
       "      <td>4</td>\n",
       "      <td>3</td>\n",
       "      <td>5</td>\n",
       "      <td>4.333333</td>\n",
       "      <td>local</td>\n",
       "      <td>local</td>\n",
       "      <td>15</td>\n",
       "      <td>1</td>\n",
       "      <td>1</td>\n",
       "    </tr>\n",
       "  </tbody>\n",
       "</table>\n",
       "</div>"
      ],
      "text/plain": [
       "  timestamp  FQDN_count  subdomain_length  upper  lower  numeric   entropy  \\\n",
       "0   56:19.8          27                10      0     10       11  2.570417   \n",
       "1   07:23.9          27                10      0     10       11  2.767195   \n",
       "2   23:15.1          26                 9      0     10       10  2.742338   \n",
       "3   04:51.9          27                10      0     10       11  2.570417   \n",
       "4   12:44.0          15                 9      0     11        0  2.929439   \n",
       "\n",
       "   special  labels  labels_max  labels_average longest_word    sld  len  \\\n",
       "0        6       6           7        3.666667            2    192   14   \n",
       "1        6       6           7        3.666667            2    192   14   \n",
       "2        6       6           7        3.500000            2    192   13   \n",
       "3        6       6           7        3.666667            2    192   14   \n",
       "4        4       3           5        4.333333        local  local   15   \n",
       "\n",
       "   subdomain  Target Attack  \n",
       "0          1              1  \n",
       "1          1              1  \n",
       "2          1              0  \n",
       "3          1              1  \n",
       "4          1              1  "
      ]
     },
     "execution_count": 3,
     "metadata": {},
     "output_type": "execute_result"
    }
   ],
   "source": [
    "df.head()"
   ]
  },
  {
   "cell_type": "code",
   "execution_count": 4,
   "id": "919ef4dc",
   "metadata": {},
   "outputs": [
    {
     "data": {
      "text/plain": [
       "timestamp           268074\n",
       "FQDN_count          268074\n",
       "subdomain_length    268074\n",
       "upper               268074\n",
       "lower               268074\n",
       "numeric             268074\n",
       "entropy             268074\n",
       "special             268074\n",
       "labels              268074\n",
       "labels_max          268074\n",
       "labels_average      268074\n",
       "longest_word        268066\n",
       "sld                 268074\n",
       "len                 268074\n",
       "subdomain           268074\n",
       "Target Attack       268074\n",
       "dtype: int64"
      ]
     },
     "execution_count": 4,
     "metadata": {},
     "output_type": "execute_result"
    }
   ],
   "source": [
    "df.count()"
   ]
  },
  {
   "cell_type": "code",
   "execution_count": 5,
   "id": "388f7260",
   "metadata": {},
   "outputs": [
    {
     "data": {
      "text/plain": [
       "1    147179\n",
       "0    120895\n",
       "Name: Target Attack, dtype: int64"
      ]
     },
     "execution_count": 5,
     "metadata": {},
     "output_type": "execute_result"
    }
   ],
   "source": [
    "df['Target Attack'].value_counts()"
   ]
  },
  {
   "cell_type": "code",
   "execution_count": 6,
   "id": "8288f161",
   "metadata": {},
   "outputs": [],
   "source": [
    "df.isnull().sum()\n",
    "df.fillna(0,inplace=True)"
   ]
  },
  {
   "cell_type": "code",
   "execution_count": 7,
   "id": "ce119a9f",
   "metadata": {},
   "outputs": [
    {
     "name": "stdout",
     "output_type": "stream",
     "text": [
      "Class 0 percentage  45.09762229832061 %\n",
      "Class 1 percentage  54.902377701679384 %\n"
     ]
    }
   ],
   "source": [
    "percentageID0 = df['Target Attack'].count()\n",
    "class0 =  (df['Target Attack'].value_counts()[0]/percentageID0)*100\n",
    "print('Class 0 percentage ', class0, '%')\n",
    "class1 =  (df['Target Attack'].value_counts()[1]/percentageID0)*100\n",
    "print('Class 1 percentage ', class1, '%')\n"
   ]
  },
  {
   "cell_type": "markdown",
   "id": "77f78a17",
   "metadata": {},
   "source": [
    "from the data we can conclued that the data is not imbalanced since the distribution of binary class is almost same"
   ]
  },
  {
   "cell_type": "code",
   "execution_count": 8,
   "id": "df735993",
   "metadata": {},
   "outputs": [
    {
     "name": "stdout",
     "output_type": "stream",
     "text": [
      "   counts  percentage\n",
      "1  147179   54.902378\n",
      "0  120895   45.097622\n"
     ]
    }
   ],
   "source": [
    "g = df['Target Attack']\n",
    "data = pd.concat([g.value_counts(),              \n",
    "g.value_counts(normalize=True).mul(100)],axis=1,keys=('counts','percentage'))\n",
    "\n",
    "print (data)"
   ]
  },
  {
   "cell_type": "code",
   "execution_count": 9,
   "id": "9149440d",
   "metadata": {},
   "outputs": [
    {
     "data": {
      "text/plain": [
       "Text(0.5, 0, 'target attack classes')"
      ]
     },
     "execution_count": 9,
     "metadata": {},
     "output_type": "execute_result"
    },
    {
     "data": {
      "image/png": "[encoded data removed]",
      "text/plain": [
       "<Figure size 864x576 with 1 Axes>"
      ]
     },
     "metadata": {
      "needs_background": "light"
     },
     "output_type": "display_data"
    }
   ],
   "source": [
    "data.plot.bar(figsize=(12,8),y = 'counts', align='center')\n",
    "plt.ylabel('class counts')\n",
    "plt.xlabel('target attack classes')"
   ]
  },
  {
   "cell_type": "markdown",
   "id": "089fe712",
   "metadata": {},
   "source": [
    "## Data count"
   ]
  },
  {
   "cell_type": "code",
   "execution_count": 10,
   "id": "150622c9",
   "metadata": {},
   "outputs": [
    {
     "data": {
      "text/plain": [
       "<Figure size 1440x288 with 0 Axes>"
      ]
     },
     "metadata": {},
     "output_type": "display_data"
    },
    {
     "data": {
      "image/png": "[encoded data removed]",
      "text/plain": [
       "<Figure size 720x504 with 1 Axes>"
      ]
     },
     "metadata": {
      "needs_background": "light"
     },
     "output_type": "display_data"
    },
    {
     "data": {
      "image/png": "[encoded data removed]",
      "text/plain": [
       "<Figure size 720x504 with 1 Axes>"
      ]
     },
     "metadata": {
      "needs_background": "light"
     },
     "output_type": "display_data"
    },
    {
     "data": {
      "image/png": "[encoded data removed]",
      "text/plain": [
       "<Figure size 720x504 with 1 Axes>"
      ]
     },
     "metadata": {
      "needs_background": "light"
     },
     "output_type": "display_data"
    },
    {
     "data": {
      "image/png": "[encoded data removed]",
      "text/plain": [
       "<Figure size 720x504 with 1 Axes>"
      ]
     },
     "metadata": {
      "needs_background": "light"
     },
     "output_type": "display_data"
    },
    {
     "data": {
      "image/png": "[encoded data removed]",
      "text/plain": [
       "<Figure size 720x504 with 1 Axes>"
      ]
     },
     "metadata": {
      "needs_background": "light"
     },
     "output_type": "display_data"
    },
    {
     "data": {
      "image/png": "[encoded data removed]",
      "text/plain": [
       "<Figure size 720x504 with 1 Axes>"
      ]
     },
     "metadata": {
      "needs_background": "light"
     },
     "output_type": "display_data"
    },
    {
     "data": {
      "image/png": "[encoded data removed]",
      "text/plain": [
       "<Figure size 720x504 with 1 Axes>"
      ]
     },
     "metadata": {
      "needs_background": "light"
     },
     "output_type": "display_data"
    },
    {
     "data": {
      "image/png": "[encoded data removed]",
      "text/plain": [
       "<Figure size 720x504 with 1 Axes>"
      ]
     },
     "metadata": {
      "needs_background": "light"
     },
     "output_type": "display_data"
    },
    {
     "data": {
      "image/png": "[encoded data removed]",
      "text/plain": [
       "<Figure size 720x504 with 1 Axes>"
      ]
     },
     "metadata": {
      "needs_background": "light"
     },
     "output_type": "display_data"
    },
    {
     "data": {
      "image/png": "[encoded data removed]",
      "text/plain": [
       "<Figure size 720x504 with 1 Axes>"
      ]
     },
     "metadata": {
      "needs_background": "light"
     },
     "output_type": "display_data"
    },
    {
     "data": {
      "image/png": "[encoded data removed]",
      "text/plain": [
       "<Figure size 720x504 with 1 Axes>"
      ]
     },
     "metadata": {
      "needs_background": "light"
     },
     "output_type": "display_data"
    },
    {
     "data": {
      "image/png": "[encoded data removed]",
      "text/plain": [
       "<Figure size 720x504 with 1 Axes>"
      ]
     },
     "metadata": {
      "needs_background": "light"
     },
     "output_type": "display_data"
    },
    {
     "data": {
      "image/png": "[encoded data removed]",
      "text/plain": [
       "<Figure size 720x504 with 1 Axes>"
      ]
     },
     "metadata": {
      "needs_background": "light"
     },
     "output_type": "display_data"
    }
   ],
   "source": [
    "numerical = df.select_dtypes('number').columns\n",
    "plt.figure(figsize=(20,4))\n",
    "for col in numerical:\n",
    "    fig = plt.subplots(1, figsize=(10,7))\n",
    "    sns.histplot(data=df, x=col);"
   ]
  },
  {
   "cell_type": "markdown",
   "id": "202be77c",
   "metadata": {},
   "source": [
    "## Finding Data distribution"
   ]
  },
  {
   "cell_type": "code",
   "execution_count": 11,
   "id": "fdb9e71f",
   "metadata": {},
   "outputs": [
    {
     "data": {
      "image/png": "[encoded data removed]",
      "text/plain": [
       "<Figure size 720x504 with 1 Axes>"
      ]
     },
     "metadata": {
      "needs_background": "light"
     },
     "output_type": "display_data"
    },
    {
     "data": {
      "image/png": "[encoded data removed]",
      "text/plain": [
       "<Figure size 720x504 with 1 Axes>"
      ]
     },
     "metadata": {
      "needs_background": "light"
     },
     "output_type": "display_data"
    },
    {
     "data": {
      "image/png": "[encoded data removed]",
      "text/plain": [
       "<Figure size 720x504 with 1 Axes>"
      ]
     },
     "metadata": {
      "needs_background": "light"
     },
     "output_type": "display_data"
    },
    {
     "data": {
      "image/png": "[encoded data removed]",
      "text/plain": [
       "<Figure size 720x504 with 1 Axes>"
      ]
     },
     "metadata": {
      "needs_background": "light"
     },
     "output_type": "display_data"
    },
    {
     "data": {
      "image/png": "[encoded data removed]",
      "text/plain": [
       "<Figure size 720x504 with 1 Axes>"
      ]
     },
     "metadata": {
      "needs_background": "light"
     },
     "output_type": "display_data"
    },
    {
     "data": {
      "image/png": "[encoded data removed]",
      "text/plain": [
       "<Figure size 720x504 with 1 Axes>"
      ]
     },
     "metadata": {
      "needs_background": "light"
     },
     "output_type": "display_data"
    },
    {
     "data": {
      "image/png": "[encoded data removed]",
      "text/plain": [
       "<Figure size 720x504 with 1 Axes>"
      ]
     },
     "metadata": {
      "needs_background": "light"
     },
     "output_type": "display_data"
    },
    {
     "data": {
      "image/png": "[encoded data removed]",
      "text/plain": [
       "<Figure size 720x504 with 1 Axes>"
      ]
     },
     "metadata": {
      "needs_background": "light"
     },
     "output_type": "display_data"
    },
    {
     "data": {
      "image/png": "[encoded data removed]",
      "text/plain": [
       "<Figure size 720x504 with 1 Axes>"
      ]
     },
     "metadata": {
      "needs_background": "light"
     },
     "output_type": "display_data"
    },
    {
     "data": {
      "image/png": "[encoded data removed]",
      "text/plain": [
       "<Figure size 720x504 with 1 Axes>"
      ]
     },
     "metadata": {
      "needs_background": "light"
     },
     "output_type": "display_data"
    },
    {
     "data": {
      "image/png": "[encoded data removed]",
      "text/plain": [
       "<Figure size 720x504 with 1 Axes>"
      ]
     },
     "metadata": {
      "needs_background": "light"
     },
     "output_type": "display_data"
    },
    {
     "data": {
      "image/png": "[encoded data removed]",
      "text/plain": [
       "<Figure size 720x504 with 1 Axes>"
      ]
     },
     "metadata": {
      "needs_background": "light"
     },
     "output_type": "display_data"
    },
    {
     "data": {
      "image/png": "[encoded data removed]",
      "text/plain": [
       "<Figure size 720x504 with 1 Axes>"
      ]
     },
     "metadata": {
      "needs_background": "light"
     },
     "output_type": "display_data"
    }
   ],
   "source": [
    "for col in numerical:\n",
    "    fig = plt.subplots(1, figsize=(10,7))\n",
    "    sns.boxplot(data=df, x=col);"
   ]
  },
  {
   "cell_type": "markdown",
   "id": "23406b8c",
   "metadata": {},
   "source": [
    "## Getting coorelation of features "
   ]
  },
  {
   "cell_type": "code",
   "execution_count": 12,
   "id": "f0635b61",
   "metadata": {},
   "outputs": [
    {
     "data": {
      "text/plain": [
       "<AxesSubplot:>"
      ]
     },
     "execution_count": 12,
     "metadata": {},
     "output_type": "execute_result"
    },
    {
     "data": {
      "image/png": "[encoded data removed]",
      "text/plain": [
       "<Figure size 2160x1440 with 2 Axes>"
      ]
     },
     "metadata": {
      "needs_background": "light"
     },
     "output_type": "display_data"
    }
   ],
   "source": [
    "corr = df.corr()\n",
    "plt.figure(figsize=(30,20))\n",
    "sns.heatmap(corr, annot=True)"
   ]
  },
  {
   "cell_type": "code",
   "execution_count": 13,
   "id": "65d0a4e8",
   "metadata": {},
   "outputs": [
    {
     "data": {
      "text/plain": [
       "FQDN_count          0.563563\n",
       "subdomain_length    0.572053\n",
       "upper               0.072895\n",
       "lower               0.295599\n",
       "numeric             0.599252\n",
       "entropy             0.119050\n",
       "special             0.582107\n",
       "labels              0.569414\n",
       "labels_max          0.096350\n",
       "labels_average      0.077167\n",
       "len                 0.159437\n",
       "subdomain           0.502469\n",
       "Target Attack       1.000000\n",
       "Name: Target Attack, dtype: float64"
      ]
     },
     "execution_count": 13,
     "metadata": {},
     "output_type": "execute_result"
    }
   ],
   "source": [
    "correlation_target = abs(corr['Target Attack'])\n",
    "correlation_target"
   ]
  },
  {
   "cell_type": "code",
   "execution_count": 14,
   "id": "107d5d3b",
   "metadata": {},
   "outputs": [
    {
     "data": {
      "text/html": [
       "<div>\n",
       "<style scoped>\n",
       "    .dataframe tbody tr th:only-of-type {\n",
       "        vertical-align: middle;\n",
       "    }\n",
       "\n",
       "    .dataframe tbody tr th {\n",
       "        vertical-align: top;\n",
       "    }\n",
       "\n",
       "    .dataframe thead th {\n",
       "        text-align: right;\n",
       "    }\n",
       "</style>\n",
       "<table border=\"1\" class=\"dataframe\">\n",
       "  <thead>\n",
       "    <tr style=\"text-align: right;\">\n",
       "      <th></th>\n",
       "      <th>FQDN_count</th>\n",
       "      <th>subdomain_length</th>\n",
       "      <th>upper</th>\n",
       "      <th>lower</th>\n",
       "      <th>numeric</th>\n",
       "      <th>entropy</th>\n",
       "      <th>special</th>\n",
       "      <th>labels</th>\n",
       "      <th>labels_max</th>\n",
       "      <th>labels_average</th>\n",
       "      <th>len</th>\n",
       "      <th>subdomain</th>\n",
       "      <th>Target Attack</th>\n",
       "    </tr>\n",
       "  </thead>\n",
       "  <tbody>\n",
       "    <tr>\n",
       "      <th>FQDN_count</th>\n",
       "      <td>1.000000</td>\n",
       "      <td>0.788615</td>\n",
       "      <td>0.223162</td>\n",
       "      <td>-0.095881</td>\n",
       "      <td>0.793079</td>\n",
       "      <td>0.167806</td>\n",
       "      <td>0.748354</td>\n",
       "      <td>0.739786</td>\n",
       "      <td>0.186992</td>\n",
       "      <td>0.109444</td>\n",
       "      <td>0.588849</td>\n",
       "      <td>0.698685</td>\n",
       "      <td>0.563563</td>\n",
       "    </tr>\n",
       "    <tr>\n",
       "      <th>subdomain_length</th>\n",
       "      <td>0.788615</td>\n",
       "      <td>1.000000</td>\n",
       "      <td>-0.265780</td>\n",
       "      <td>-0.073809</td>\n",
       "      <td>0.944548</td>\n",
       "      <td>-0.015773</td>\n",
       "      <td>0.929076</td>\n",
       "      <td>0.923210</td>\n",
       "      <td>-0.410820</td>\n",
       "      <td>-0.431748</td>\n",
       "      <td>0.090472</td>\n",
       "      <td>0.888718</td>\n",
       "      <td>0.572053</td>\n",
       "    </tr>\n",
       "    <tr>\n",
       "      <th>upper</th>\n",
       "      <td>0.223162</td>\n",
       "      <td>-0.265780</td>\n",
       "      <td>1.000000</td>\n",
       "      <td>-0.555147</td>\n",
       "      <td>-0.236155</td>\n",
       "      <td>0.115458</td>\n",
       "      <td>-0.347061</td>\n",
       "      <td>-0.359428</td>\n",
       "      <td>0.847046</td>\n",
       "      <td>0.946883</td>\n",
       "      <td>0.759096</td>\n",
       "      <td>-0.299079</td>\n",
       "      <td>0.072895</td>\n",
       "    </tr>\n",
       "    <tr>\n",
       "      <th>lower</th>\n",
       "      <td>-0.095881</td>\n",
       "      <td>-0.073809</td>\n",
       "      <td>-0.555147</td>\n",
       "      <td>1.000000</td>\n",
       "      <td>-0.197667</td>\n",
       "      <td>0.385455</td>\n",
       "      <td>-0.068635</td>\n",
       "      <td>-0.057215</td>\n",
       "      <td>-0.074632</td>\n",
       "      <td>-0.318585</td>\n",
       "      <td>-0.072903</td>\n",
       "      <td>0.036077</td>\n",
       "      <td>-0.295599</td>\n",
       "    </tr>\n",
       "    <tr>\n",
       "      <th>numeric</th>\n",
       "      <td>0.793079</td>\n",
       "      <td>0.944548</td>\n",
       "      <td>-0.236155</td>\n",
       "      <td>-0.197667</td>\n",
       "      <td>1.000000</td>\n",
       "      <td>-0.084281</td>\n",
       "      <td>0.941951</td>\n",
       "      <td>0.940191</td>\n",
       "      <td>-0.395441</td>\n",
       "      <td>-0.411193</td>\n",
       "      <td>0.037743</td>\n",
       "      <td>0.801602</td>\n",
       "      <td>0.599252</td>\n",
       "    </tr>\n",
       "    <tr>\n",
       "      <th>entropy</th>\n",
       "      <td>0.167806</td>\n",
       "      <td>-0.015773</td>\n",
       "      <td>0.115458</td>\n",
       "      <td>0.385455</td>\n",
       "      <td>-0.084281</td>\n",
       "      <td>1.000000</td>\n",
       "      <td>-0.192317</td>\n",
       "      <td>-0.226686</td>\n",
       "      <td>0.418591</td>\n",
       "      <td>0.307460</td>\n",
       "      <td>0.526296</td>\n",
       "      <td>-0.138240</td>\n",
       "      <td>-0.119050</td>\n",
       "    </tr>\n",
       "    <tr>\n",
       "      <th>special</th>\n",
       "      <td>0.748354</td>\n",
       "      <td>0.929076</td>\n",
       "      <td>-0.347061</td>\n",
       "      <td>-0.068635</td>\n",
       "      <td>0.941951</td>\n",
       "      <td>-0.192317</td>\n",
       "      <td>1.000000</td>\n",
       "      <td>0.991309</td>\n",
       "      <td>-0.477689</td>\n",
       "      <td>-0.525847</td>\n",
       "      <td>-0.070203</td>\n",
       "      <td>0.890508</td>\n",
       "      <td>0.582107</td>\n",
       "    </tr>\n",
       "    <tr>\n",
       "      <th>labels</th>\n",
       "      <td>0.739786</td>\n",
       "      <td>0.923210</td>\n",
       "      <td>-0.359428</td>\n",
       "      <td>-0.057215</td>\n",
       "      <td>0.940191</td>\n",
       "      <td>-0.226686</td>\n",
       "      <td>0.991309</td>\n",
       "      <td>1.000000</td>\n",
       "      <td>-0.497794</td>\n",
       "      <td>-0.545609</td>\n",
       "      <td>-0.096721</td>\n",
       "      <td>0.898859</td>\n",
       "      <td>0.569414</td>\n",
       "    </tr>\n",
       "    <tr>\n",
       "      <th>labels_max</th>\n",
       "      <td>0.186992</td>\n",
       "      <td>-0.410820</td>\n",
       "      <td>0.847046</td>\n",
       "      <td>-0.074632</td>\n",
       "      <td>-0.395441</td>\n",
       "      <td>0.418591</td>\n",
       "      <td>-0.477689</td>\n",
       "      <td>-0.497794</td>\n",
       "      <td>1.000000</td>\n",
       "      <td>0.954819</td>\n",
       "      <td>0.856082</td>\n",
       "      <td>-0.420510</td>\n",
       "      <td>-0.096350</td>\n",
       "    </tr>\n",
       "    <tr>\n",
       "      <th>labels_average</th>\n",
       "      <td>0.109444</td>\n",
       "      <td>-0.431748</td>\n",
       "      <td>0.946883</td>\n",
       "      <td>-0.318585</td>\n",
       "      <td>-0.411193</td>\n",
       "      <td>0.307460</td>\n",
       "      <td>-0.525847</td>\n",
       "      <td>-0.545609</td>\n",
       "      <td>0.954819</td>\n",
       "      <td>1.000000</td>\n",
       "      <td>0.802346</td>\n",
       "      <td>-0.473714</td>\n",
       "      <td>-0.077167</td>\n",
       "    </tr>\n",
       "    <tr>\n",
       "      <th>len</th>\n",
       "      <td>0.588849</td>\n",
       "      <td>0.090472</td>\n",
       "      <td>0.759096</td>\n",
       "      <td>-0.072903</td>\n",
       "      <td>0.037743</td>\n",
       "      <td>0.526296</td>\n",
       "      <td>-0.070203</td>\n",
       "      <td>-0.096721</td>\n",
       "      <td>0.856082</td>\n",
       "      <td>0.802346</td>\n",
       "      <td>1.000000</td>\n",
       "      <td>0.013307</td>\n",
       "      <td>0.159437</td>\n",
       "    </tr>\n",
       "    <tr>\n",
       "      <th>subdomain</th>\n",
       "      <td>0.698685</td>\n",
       "      <td>0.888718</td>\n",
       "      <td>-0.299079</td>\n",
       "      <td>0.036077</td>\n",
       "      <td>0.801602</td>\n",
       "      <td>-0.138240</td>\n",
       "      <td>0.890508</td>\n",
       "      <td>0.898859</td>\n",
       "      <td>-0.420510</td>\n",
       "      <td>-0.473714</td>\n",
       "      <td>0.013307</td>\n",
       "      <td>1.000000</td>\n",
       "      <td>0.502469</td>\n",
       "    </tr>\n",
       "    <tr>\n",
       "      <th>Target Attack</th>\n",
       "      <td>0.563563</td>\n",
       "      <td>0.572053</td>\n",
       "      <td>0.072895</td>\n",
       "      <td>-0.295599</td>\n",
       "      <td>0.599252</td>\n",
       "      <td>-0.119050</td>\n",
       "      <td>0.582107</td>\n",
       "      <td>0.569414</td>\n",
       "      <td>-0.096350</td>\n",
       "      <td>-0.077167</td>\n",
       "      <td>0.159437</td>\n",
       "      <td>0.502469</td>\n",
       "      <td>1.000000</td>\n",
       "    </tr>\n",
       "  </tbody>\n",
       "</table>\n",
       "</div>"
      ],
      "text/plain": [
       "                  FQDN_count  subdomain_length     upper     lower   numeric  \\\n",
       "FQDN_count          1.000000          0.788615  0.223162 -0.095881  0.793079   \n",
       "subdomain_length    0.788615          1.000000 -0.265780 -0.073809  0.944548   \n",
       "upper               0.223162         -0.265780  1.000000 -0.555147 -0.236155   \n",
       "lower              -0.095881         -0.073809 -0.555147  1.000000 -0.197667   \n",
       "numeric             0.793079          0.944548 -0.236155 -0.197667  1.000000   \n",
       "entropy             0.167806         -0.015773  0.115458  0.385455 -0.084281   \n",
       "special             0.748354          0.929076 -0.347061 -0.068635  0.941951   \n",
       "labels              0.739786          0.923210 -0.359428 -0.057215  0.940191   \n",
       "labels_max          0.186992         -0.410820  0.847046 -0.074632 -0.395441   \n",
       "labels_average      0.109444         -0.431748  0.946883 -0.318585 -0.411193   \n",
       "len                 0.588849          0.090472  0.759096 -0.072903  0.037743   \n",
       "subdomain           0.698685          0.888718 -0.299079  0.036077  0.801602   \n",
       "Target Attack       0.563563          0.572053  0.072895 -0.295599  0.599252   \n",
       "\n",
       "                   entropy   special    labels  labels_max  labels_average  \\\n",
       "FQDN_count        0.167806  0.748354  0.739786    0.186992        0.109444   \n",
       "subdomain_length -0.015773  0.929076  0.923210   -0.410820       -0.431748   \n",
       "upper             0.115458 -0.347061 -0.359428    0.847046        0.946883   \n",
       "lower             0.385455 -0.068635 -0.057215   -0.074632       -0.318585   \n",
       "numeric          -0.084281  0.941951  0.940191   -0.395441       -0.411193   \n",
       "entropy           1.000000 -0.192317 -0.226686    0.418591        0.307460   \n",
       "special          -0.192317  1.000000  0.991309   -0.477689       -0.525847   \n",
       "labels           -0.226686  0.991309  1.000000   -0.497794       -0.545609   \n",
       "labels_max        0.418591 -0.477689 -0.497794    1.000000        0.954819   \n",
       "labels_average    0.307460 -0.525847 -0.545609    0.954819        1.000000   \n",
       "len               0.526296 -0.070203 -0.096721    0.856082        0.802346   \n",
       "subdomain        -0.138240  0.890508  0.898859   -0.420510       -0.473714   \n",
       "Target Attack    -0.119050  0.582107  0.569414   -0.096350       -0.077167   \n",
       "\n",
       "                       len  subdomain  Target Attack  \n",
       "FQDN_count        0.588849   0.698685       0.563563  \n",
       "subdomain_length  0.090472   0.888718       0.572053  \n",
       "upper             0.759096  -0.299079       0.072895  \n",
       "lower            -0.072903   0.036077      -0.295599  \n",
       "numeric           0.037743   0.801602       0.599252  \n",
       "entropy           0.526296  -0.138240      -0.119050  \n",
       "special          -0.070203   0.890508       0.582107  \n",
       "labels           -0.096721   0.898859       0.569414  \n",
       "labels_max        0.856082  -0.420510      -0.096350  \n",
       "labels_average    0.802346  -0.473714      -0.077167  \n",
       "len               1.000000   0.013307       0.159437  \n",
       "subdomain         0.013307   1.000000       0.502469  \n",
       "Target Attack     0.159437   0.502469       1.000000  "
      ]
     },
     "execution_count": 14,
     "metadata": {},
     "output_type": "execute_result"
    }
   ],
   "source": [
    "df.corr()"
   ]
  },
  {
   "cell_type": "markdown",
   "id": "c6622257",
   "metadata": {},
   "source": [
    "## Feature hashing for categorical values"
   ]
  },
  {
   "cell_type": "code",
   "execution_count": 15,
   "id": "d45ab31a",
   "metadata": {},
   "outputs": [],
   "source": [
    "fh = FeatureHasher(n_features=3, input_type='string')"
   ]
  },
  {
   "cell_type": "code",
   "execution_count": 16,
   "id": "67599a69",
   "metadata": {},
   "outputs": [
    {
     "data": {
      "text/html": [
       "<div>\n",
       "<style scoped>\n",
       "    .dataframe tbody tr th:only-of-type {\n",
       "        vertical-align: middle;\n",
       "    }\n",
       "\n",
       "    .dataframe tbody tr th {\n",
       "        vertical-align: top;\n",
       "    }\n",
       "\n",
       "    .dataframe thead th {\n",
       "        text-align: right;\n",
       "    }\n",
       "</style>\n",
       "<table border=\"1\" class=\"dataframe\">\n",
       "  <thead>\n",
       "    <tr style=\"text-align: right;\">\n",
       "      <th></th>\n",
       "      <th>timestamp_fh0</th>\n",
       "      <th>timestamp_fh1</th>\n",
       "      <th>timestamp_fh2</th>\n",
       "    </tr>\n",
       "  </thead>\n",
       "  <tbody>\n",
       "    <tr>\n",
       "      <th>0</th>\n",
       "      <td>0.0</td>\n",
       "      <td>-1.0</td>\n",
       "      <td>0.0</td>\n",
       "    </tr>\n",
       "    <tr>\n",
       "      <th>1</th>\n",
       "      <td>0.0</td>\n",
       "      <td>1.0</td>\n",
       "      <td>0.0</td>\n",
       "    </tr>\n",
       "    <tr>\n",
       "      <th>2</th>\n",
       "      <td>-1.0</td>\n",
       "      <td>0.0</td>\n",
       "      <td>0.0</td>\n",
       "    </tr>\n",
       "    <tr>\n",
       "      <th>3</th>\n",
       "      <td>0.0</td>\n",
       "      <td>1.0</td>\n",
       "      <td>0.0</td>\n",
       "    </tr>\n",
       "    <tr>\n",
       "      <th>4</th>\n",
       "      <td>-1.0</td>\n",
       "      <td>0.0</td>\n",
       "      <td>0.0</td>\n",
       "    </tr>\n",
       "    <tr>\n",
       "      <th>...</th>\n",
       "      <td>...</td>\n",
       "      <td>...</td>\n",
       "      <td>...</td>\n",
       "    </tr>\n",
       "    <tr>\n",
       "      <th>268069</th>\n",
       "      <td>0.0</td>\n",
       "      <td>1.0</td>\n",
       "      <td>0.0</td>\n",
       "    </tr>\n",
       "    <tr>\n",
       "      <th>268070</th>\n",
       "      <td>0.0</td>\n",
       "      <td>0.0</td>\n",
       "      <td>-1.0</td>\n",
       "    </tr>\n",
       "    <tr>\n",
       "      <th>268071</th>\n",
       "      <td>0.0</td>\n",
       "      <td>0.0</td>\n",
       "      <td>1.0</td>\n",
       "    </tr>\n",
       "    <tr>\n",
       "      <th>268072</th>\n",
       "      <td>0.0</td>\n",
       "      <td>0.0</td>\n",
       "      <td>1.0</td>\n",
       "    </tr>\n",
       "    <tr>\n",
       "      <th>268073</th>\n",
       "      <td>0.0</td>\n",
       "      <td>0.0</td>\n",
       "      <td>-1.0</td>\n",
       "    </tr>\n",
       "  </tbody>\n",
       "</table>\n",
       "<p>268074 rows × 3 columns</p>\n",
       "</div>"
      ],
      "text/plain": [
       "        timestamp_fh0  timestamp_fh1  timestamp_fh2\n",
       "0                 0.0           -1.0            0.0\n",
       "1                 0.0            1.0            0.0\n",
       "2                -1.0            0.0            0.0\n",
       "3                 0.0            1.0            0.0\n",
       "4                -1.0            0.0            0.0\n",
       "...               ...            ...            ...\n",
       "268069            0.0            1.0            0.0\n",
       "268070            0.0            0.0           -1.0\n",
       "268071            0.0            0.0            1.0\n",
       "268072            0.0            0.0            1.0\n",
       "268073            0.0            0.0           -1.0\n",
       "\n",
       "[268074 rows x 3 columns]"
      ]
     },
     "execution_count": 16,
     "metadata": {},
     "output_type": "execute_result"
    }
   ],
   "source": [
    "#for feature timestamp\n",
    "hashed1 = fh.transform(df[['timestamp']].astype(str).values)\n",
    "hashed1 = pd.DataFrame(hashed1.todense())\n",
    "hashed1.columns = ['timestamp_fh'+str(i) for i in hashed1.columns]\n",
    "hashed1"
   ]
  },
  {
   "cell_type": "code",
   "execution_count": 17,
   "id": "173444f8",
   "metadata": {},
   "outputs": [
    {
     "data": {
      "text/html": [
       "<div>\n",
       "<style scoped>\n",
       "    .dataframe tbody tr th:only-of-type {\n",
       "        vertical-align: middle;\n",
       "    }\n",
       "\n",
       "    .dataframe tbody tr th {\n",
       "        vertical-align: top;\n",
       "    }\n",
       "\n",
       "    .dataframe thead th {\n",
       "        text-align: right;\n",
       "    }\n",
       "</style>\n",
       "<table border=\"1\" class=\"dataframe\">\n",
       "  <thead>\n",
       "    <tr style=\"text-align: right;\">\n",
       "      <th></th>\n",
       "      <th>longest_word_fh0</th>\n",
       "      <th>longest_word_fh1</th>\n",
       "      <th>longest_word_fh2</th>\n",
       "    </tr>\n",
       "  </thead>\n",
       "  <tbody>\n",
       "    <tr>\n",
       "      <th>0</th>\n",
       "      <td>1.0</td>\n",
       "      <td>0.0</td>\n",
       "      <td>0.0</td>\n",
       "    </tr>\n",
       "    <tr>\n",
       "      <th>1</th>\n",
       "      <td>1.0</td>\n",
       "      <td>0.0</td>\n",
       "      <td>0.0</td>\n",
       "    </tr>\n",
       "    <tr>\n",
       "      <th>2</th>\n",
       "      <td>1.0</td>\n",
       "      <td>0.0</td>\n",
       "      <td>0.0</td>\n",
       "    </tr>\n",
       "    <tr>\n",
       "      <th>3</th>\n",
       "      <td>1.0</td>\n",
       "      <td>0.0</td>\n",
       "      <td>0.0</td>\n",
       "    </tr>\n",
       "    <tr>\n",
       "      <th>4</th>\n",
       "      <td>0.0</td>\n",
       "      <td>0.0</td>\n",
       "      <td>1.0</td>\n",
       "    </tr>\n",
       "    <tr>\n",
       "      <th>...</th>\n",
       "      <td>...</td>\n",
       "      <td>...</td>\n",
       "      <td>...</td>\n",
       "    </tr>\n",
       "    <tr>\n",
       "      <th>268069</th>\n",
       "      <td>0.0</td>\n",
       "      <td>0.0</td>\n",
       "      <td>-1.0</td>\n",
       "    </tr>\n",
       "    <tr>\n",
       "      <th>268070</th>\n",
       "      <td>1.0</td>\n",
       "      <td>0.0</td>\n",
       "      <td>0.0</td>\n",
       "    </tr>\n",
       "    <tr>\n",
       "      <th>268071</th>\n",
       "      <td>1.0</td>\n",
       "      <td>0.0</td>\n",
       "      <td>0.0</td>\n",
       "    </tr>\n",
       "    <tr>\n",
       "      <th>268072</th>\n",
       "      <td>1.0</td>\n",
       "      <td>0.0</td>\n",
       "      <td>0.0</td>\n",
       "    </tr>\n",
       "    <tr>\n",
       "      <th>268073</th>\n",
       "      <td>1.0</td>\n",
       "      <td>0.0</td>\n",
       "      <td>0.0</td>\n",
       "    </tr>\n",
       "  </tbody>\n",
       "</table>\n",
       "<p>268074 rows × 3 columns</p>\n",
       "</div>"
      ],
      "text/plain": [
       "        longest_word_fh0  longest_word_fh1  longest_word_fh2\n",
       "0                    1.0               0.0               0.0\n",
       "1                    1.0               0.0               0.0\n",
       "2                    1.0               0.0               0.0\n",
       "3                    1.0               0.0               0.0\n",
       "4                    0.0               0.0               1.0\n",
       "...                  ...               ...               ...\n",
       "268069               0.0               0.0              -1.0\n",
       "268070               1.0               0.0               0.0\n",
       "268071               1.0               0.0               0.0\n",
       "268072               1.0               0.0               0.0\n",
       "268073               1.0               0.0               0.0\n",
       "\n",
       "[268074 rows x 3 columns]"
      ]
     },
     "execution_count": 17,
     "metadata": {},
     "output_type": "execute_result"
    }
   ],
   "source": [
    "hashed2 = fh.transform(df[['longest_word']].astype(str).values)\n",
    "hashed2 = pd.DataFrame(hashed2.todense())\n",
    "hashed2.columns = ['longest_word_fh'+str(i) for i in hashed2.columns]\n",
    "hashed2"
   ]
  },
  {
   "cell_type": "code",
   "execution_count": 18,
   "id": "5b5cae01",
   "metadata": {},
   "outputs": [
    {
     "data": {
      "text/html": [
       "<div>\n",
       "<style scoped>\n",
       "    .dataframe tbody tr th:only-of-type {\n",
       "        vertical-align: middle;\n",
       "    }\n",
       "\n",
       "    .dataframe tbody tr th {\n",
       "        vertical-align: top;\n",
       "    }\n",
       "\n",
       "    .dataframe thead th {\n",
       "        text-align: right;\n",
       "    }\n",
       "</style>\n",
       "<table border=\"1\" class=\"dataframe\">\n",
       "  <thead>\n",
       "    <tr style=\"text-align: right;\">\n",
       "      <th></th>\n",
       "      <th>sld_fh0</th>\n",
       "      <th>sld_fh1</th>\n",
       "      <th>sld_fh2</th>\n",
       "    </tr>\n",
       "  </thead>\n",
       "  <tbody>\n",
       "    <tr>\n",
       "      <th>0</th>\n",
       "      <td>-1.0</td>\n",
       "      <td>0.0</td>\n",
       "      <td>0.0</td>\n",
       "    </tr>\n",
       "    <tr>\n",
       "      <th>1</th>\n",
       "      <td>-1.0</td>\n",
       "      <td>0.0</td>\n",
       "      <td>0.0</td>\n",
       "    </tr>\n",
       "    <tr>\n",
       "      <th>2</th>\n",
       "      <td>-1.0</td>\n",
       "      <td>0.0</td>\n",
       "      <td>0.0</td>\n",
       "    </tr>\n",
       "    <tr>\n",
       "      <th>3</th>\n",
       "      <td>-1.0</td>\n",
       "      <td>0.0</td>\n",
       "      <td>0.0</td>\n",
       "    </tr>\n",
       "    <tr>\n",
       "      <th>4</th>\n",
       "      <td>0.0</td>\n",
       "      <td>0.0</td>\n",
       "      <td>1.0</td>\n",
       "    </tr>\n",
       "    <tr>\n",
       "      <th>...</th>\n",
       "      <td>...</td>\n",
       "      <td>...</td>\n",
       "      <td>...</td>\n",
       "    </tr>\n",
       "    <tr>\n",
       "      <th>268069</th>\n",
       "      <td>1.0</td>\n",
       "      <td>0.0</td>\n",
       "      <td>0.0</td>\n",
       "    </tr>\n",
       "    <tr>\n",
       "      <th>268070</th>\n",
       "      <td>-1.0</td>\n",
       "      <td>0.0</td>\n",
       "      <td>0.0</td>\n",
       "    </tr>\n",
       "    <tr>\n",
       "      <th>268071</th>\n",
       "      <td>-1.0</td>\n",
       "      <td>0.0</td>\n",
       "      <td>0.0</td>\n",
       "    </tr>\n",
       "    <tr>\n",
       "      <th>268072</th>\n",
       "      <td>0.0</td>\n",
       "      <td>1.0</td>\n",
       "      <td>0.0</td>\n",
       "    </tr>\n",
       "    <tr>\n",
       "      <th>268073</th>\n",
       "      <td>-1.0</td>\n",
       "      <td>0.0</td>\n",
       "      <td>0.0</td>\n",
       "    </tr>\n",
       "  </tbody>\n",
       "</table>\n",
       "<p>268074 rows × 3 columns</p>\n",
       "</div>"
      ],
      "text/plain": [
       "        sld_fh0  sld_fh1  sld_fh2\n",
       "0          -1.0      0.0      0.0\n",
       "1          -1.0      0.0      0.0\n",
       "2          -1.0      0.0      0.0\n",
       "3          -1.0      0.0      0.0\n",
       "4           0.0      0.0      1.0\n",
       "...         ...      ...      ...\n",
       "268069      1.0      0.0      0.0\n",
       "268070     -1.0      0.0      0.0\n",
       "268071     -1.0      0.0      0.0\n",
       "268072      0.0      1.0      0.0\n",
       "268073     -1.0      0.0      0.0\n",
       "\n",
       "[268074 rows x 3 columns]"
      ]
     },
     "execution_count": 18,
     "metadata": {},
     "output_type": "execute_result"
    }
   ],
   "source": [
    "hashed3 = fh.transform(df[['sld']].astype(str).values)\n",
    "hashed3 = pd.DataFrame(hashed3.todense())\n",
    "hashed3.columns = ['sld_fh'+str(i) for i in hashed3.columns]\n",
    "hashed3"
   ]
  },
  {
   "cell_type": "code",
   "execution_count": 19,
   "id": "40aac72f",
   "metadata": {},
   "outputs": [
    {
     "data": {
      "text/html": [
       "<div>\n",
       "<style scoped>\n",
       "    .dataframe tbody tr th:only-of-type {\n",
       "        vertical-align: middle;\n",
       "    }\n",
       "\n",
       "    .dataframe tbody tr th {\n",
       "        vertical-align: top;\n",
       "    }\n",
       "\n",
       "    .dataframe thead th {\n",
       "        text-align: right;\n",
       "    }\n",
       "</style>\n",
       "<table border=\"1\" class=\"dataframe\">\n",
       "  <thead>\n",
       "    <tr style=\"text-align: right;\">\n",
       "      <th></th>\n",
       "      <th>timestamp</th>\n",
       "      <th>FQDN_count</th>\n",
       "      <th>subdomain_length</th>\n",
       "      <th>upper</th>\n",
       "      <th>lower</th>\n",
       "      <th>numeric</th>\n",
       "      <th>entropy</th>\n",
       "      <th>special</th>\n",
       "      <th>labels</th>\n",
       "      <th>labels_max</th>\n",
       "      <th>...</th>\n",
       "      <th>Target Attack</th>\n",
       "      <th>timestamp_fh0</th>\n",
       "      <th>timestamp_fh1</th>\n",
       "      <th>timestamp_fh2</th>\n",
       "      <th>longest_word_fh0</th>\n",
       "      <th>longest_word_fh1</th>\n",
       "      <th>longest_word_fh2</th>\n",
       "      <th>sld_fh0</th>\n",
       "      <th>sld_fh1</th>\n",
       "      <th>sld_fh2</th>\n",
       "    </tr>\n",
       "  </thead>\n",
       "  <tbody>\n",
       "    <tr>\n",
       "      <th>0</th>\n",
       "      <td>56:19.8</td>\n",
       "      <td>27</td>\n",
       "      <td>10</td>\n",
       "      <td>0</td>\n",
       "      <td>10</td>\n",
       "      <td>11</td>\n",
       "      <td>2.570417</td>\n",
       "      <td>6</td>\n",
       "      <td>6</td>\n",
       "      <td>7</td>\n",
       "      <td>...</td>\n",
       "      <td>1</td>\n",
       "      <td>0.0</td>\n",
       "      <td>-1.0</td>\n",
       "      <td>0.0</td>\n",
       "      <td>1.0</td>\n",
       "      <td>0.0</td>\n",
       "      <td>0.0</td>\n",
       "      <td>-1.0</td>\n",
       "      <td>0.0</td>\n",
       "      <td>0.0</td>\n",
       "    </tr>\n",
       "    <tr>\n",
       "      <th>1</th>\n",
       "      <td>07:23.9</td>\n",
       "      <td>27</td>\n",
       "      <td>10</td>\n",
       "      <td>0</td>\n",
       "      <td>10</td>\n",
       "      <td>11</td>\n",
       "      <td>2.767195</td>\n",
       "      <td>6</td>\n",
       "      <td>6</td>\n",
       "      <td>7</td>\n",
       "      <td>...</td>\n",
       "      <td>1</td>\n",
       "      <td>0.0</td>\n",
       "      <td>1.0</td>\n",
       "      <td>0.0</td>\n",
       "      <td>1.0</td>\n",
       "      <td>0.0</td>\n",
       "      <td>0.0</td>\n",
       "      <td>-1.0</td>\n",
       "      <td>0.0</td>\n",
       "      <td>0.0</td>\n",
       "    </tr>\n",
       "    <tr>\n",
       "      <th>2</th>\n",
       "      <td>23:15.1</td>\n",
       "      <td>26</td>\n",
       "      <td>9</td>\n",
       "      <td>0</td>\n",
       "      <td>10</td>\n",
       "      <td>10</td>\n",
       "      <td>2.742338</td>\n",
       "      <td>6</td>\n",
       "      <td>6</td>\n",
       "      <td>7</td>\n",
       "      <td>...</td>\n",
       "      <td>0</td>\n",
       "      <td>-1.0</td>\n",
       "      <td>0.0</td>\n",
       "      <td>0.0</td>\n",
       "      <td>1.0</td>\n",
       "      <td>0.0</td>\n",
       "      <td>0.0</td>\n",
       "      <td>-1.0</td>\n",
       "      <td>0.0</td>\n",
       "      <td>0.0</td>\n",
       "    </tr>\n",
       "    <tr>\n",
       "      <th>3</th>\n",
       "      <td>04:51.9</td>\n",
       "      <td>27</td>\n",
       "      <td>10</td>\n",
       "      <td>0</td>\n",
       "      <td>10</td>\n",
       "      <td>11</td>\n",
       "      <td>2.570417</td>\n",
       "      <td>6</td>\n",
       "      <td>6</td>\n",
       "      <td>7</td>\n",
       "      <td>...</td>\n",
       "      <td>1</td>\n",
       "      <td>0.0</td>\n",
       "      <td>1.0</td>\n",
       "      <td>0.0</td>\n",
       "      <td>1.0</td>\n",
       "      <td>0.0</td>\n",
       "      <td>0.0</td>\n",
       "      <td>-1.0</td>\n",
       "      <td>0.0</td>\n",
       "      <td>0.0</td>\n",
       "    </tr>\n",
       "    <tr>\n",
       "      <th>4</th>\n",
       "      <td>12:44.0</td>\n",
       "      <td>15</td>\n",
       "      <td>9</td>\n",
       "      <td>0</td>\n",
       "      <td>11</td>\n",
       "      <td>0</td>\n",
       "      <td>2.929439</td>\n",
       "      <td>4</td>\n",
       "      <td>3</td>\n",
       "      <td>5</td>\n",
       "      <td>...</td>\n",
       "      <td>1</td>\n",
       "      <td>-1.0</td>\n",
       "      <td>0.0</td>\n",
       "      <td>0.0</td>\n",
       "      <td>0.0</td>\n",
       "      <td>0.0</td>\n",
       "      <td>1.0</td>\n",
       "      <td>0.0</td>\n",
       "      <td>0.0</td>\n",
       "      <td>1.0</td>\n",
       "    </tr>\n",
       "    <tr>\n",
       "      <th>...</th>\n",
       "      <td>...</td>\n",
       "      <td>...</td>\n",
       "      <td>...</td>\n",
       "      <td>...</td>\n",
       "      <td>...</td>\n",
       "      <td>...</td>\n",
       "      <td>...</td>\n",
       "      <td>...</td>\n",
       "      <td>...</td>\n",
       "      <td>...</td>\n",
       "      <td>...</td>\n",
       "      <td>...</td>\n",
       "      <td>...</td>\n",
       "      <td>...</td>\n",
       "      <td>...</td>\n",
       "      <td>...</td>\n",
       "      <td>...</td>\n",
       "      <td>...</td>\n",
       "      <td>...</td>\n",
       "      <td>...</td>\n",
       "      <td>...</td>\n",
       "    </tr>\n",
       "    <tr>\n",
       "      <th>268069</th>\n",
       "      <td>33:51.5</td>\n",
       "      <td>18</td>\n",
       "      <td>3</td>\n",
       "      <td>0</td>\n",
       "      <td>16</td>\n",
       "      <td>0</td>\n",
       "      <td>2.338623</td>\n",
       "      <td>2</td>\n",
       "      <td>3</td>\n",
       "      <td>10</td>\n",
       "      <td>...</td>\n",
       "      <td>0</td>\n",
       "      <td>0.0</td>\n",
       "      <td>1.0</td>\n",
       "      <td>0.0</td>\n",
       "      <td>0.0</td>\n",
       "      <td>0.0</td>\n",
       "      <td>-1.0</td>\n",
       "      <td>1.0</td>\n",
       "      <td>0.0</td>\n",
       "      <td>0.0</td>\n",
       "    </tr>\n",
       "    <tr>\n",
       "      <th>268070</th>\n",
       "      <td>36:02.5</td>\n",
       "      <td>27</td>\n",
       "      <td>10</td>\n",
       "      <td>0</td>\n",
       "      <td>10</td>\n",
       "      <td>11</td>\n",
       "      <td>2.767195</td>\n",
       "      <td>6</td>\n",
       "      <td>6</td>\n",
       "      <td>7</td>\n",
       "      <td>...</td>\n",
       "      <td>0</td>\n",
       "      <td>0.0</td>\n",
       "      <td>0.0</td>\n",
       "      <td>-1.0</td>\n",
       "      <td>1.0</td>\n",
       "      <td>0.0</td>\n",
       "      <td>0.0</td>\n",
       "      <td>-1.0</td>\n",
       "      <td>0.0</td>\n",
       "      <td>0.0</td>\n",
       "    </tr>\n",
       "    <tr>\n",
       "      <th>268071</th>\n",
       "      <td>37:21.5</td>\n",
       "      <td>27</td>\n",
       "      <td>10</td>\n",
       "      <td>0</td>\n",
       "      <td>10</td>\n",
       "      <td>11</td>\n",
       "      <td>2.767195</td>\n",
       "      <td>6</td>\n",
       "      <td>6</td>\n",
       "      <td>7</td>\n",
       "      <td>...</td>\n",
       "      <td>1</td>\n",
       "      <td>0.0</td>\n",
       "      <td>0.0</td>\n",
       "      <td>1.0</td>\n",
       "      <td>1.0</td>\n",
       "      <td>0.0</td>\n",
       "      <td>0.0</td>\n",
       "      <td>-1.0</td>\n",
       "      <td>0.0</td>\n",
       "      <td>0.0</td>\n",
       "    </tr>\n",
       "    <tr>\n",
       "      <th>268072</th>\n",
       "      <td>24:25.1</td>\n",
       "      <td>16</td>\n",
       "      <td>0</td>\n",
       "      <td>0</td>\n",
       "      <td>14</td>\n",
       "      <td>0</td>\n",
       "      <td>3.249687</td>\n",
       "      <td>2</td>\n",
       "      <td>2</td>\n",
       "      <td>13</td>\n",
       "      <td>...</td>\n",
       "      <td>0</td>\n",
       "      <td>0.0</td>\n",
       "      <td>0.0</td>\n",
       "      <td>1.0</td>\n",
       "      <td>1.0</td>\n",
       "      <td>0.0</td>\n",
       "      <td>0.0</td>\n",
       "      <td>0.0</td>\n",
       "      <td>1.0</td>\n",
       "      <td>0.0</td>\n",
       "    </tr>\n",
       "    <tr>\n",
       "      <th>268073</th>\n",
       "      <td>20:56.1</td>\n",
       "      <td>27</td>\n",
       "      <td>10</td>\n",
       "      <td>0</td>\n",
       "      <td>10</td>\n",
       "      <td>11</td>\n",
       "      <td>2.570417</td>\n",
       "      <td>6</td>\n",
       "      <td>6</td>\n",
       "      <td>7</td>\n",
       "      <td>...</td>\n",
       "      <td>1</td>\n",
       "      <td>0.0</td>\n",
       "      <td>0.0</td>\n",
       "      <td>-1.0</td>\n",
       "      <td>1.0</td>\n",
       "      <td>0.0</td>\n",
       "      <td>0.0</td>\n",
       "      <td>-1.0</td>\n",
       "      <td>0.0</td>\n",
       "      <td>0.0</td>\n",
       "    </tr>\n",
       "  </tbody>\n",
       "</table>\n",
       "<p>268074 rows × 25 columns</p>\n",
       "</div>"
      ],
      "text/plain": [
       "       timestamp  FQDN_count  subdomain_length  upper  lower  numeric  \\\n",
       "0        56:19.8          27                10      0     10       11   \n",
       "1        07:23.9          27                10      0     10       11   \n",
       "2        23:15.1          26                 9      0     10       10   \n",
       "3        04:51.9          27                10      0     10       11   \n",
       "4        12:44.0          15                 9      0     11        0   \n",
       "...          ...         ...               ...    ...    ...      ...   \n",
       "268069   33:51.5          18                 3      0     16        0   \n",
       "268070   36:02.5          27                10      0     10       11   \n",
       "268071   37:21.5          27                10      0     10       11   \n",
       "268072   24:25.1          16                 0      0     14        0   \n",
       "268073   20:56.1          27                10      0     10       11   \n",
       "\n",
       "         entropy  special  labels  labels_max  ...  Target Attack  \\\n",
       "0       2.570417        6       6           7  ...              1   \n",
       "1       2.767195        6       6           7  ...              1   \n",
       "2       2.742338        6       6           7  ...              0   \n",
       "3       2.570417        6       6           7  ...              1   \n",
       "4       2.929439        4       3           5  ...              1   \n",
       "...          ...      ...     ...         ...  ...            ...   \n",
       "268069  2.338623        2       3          10  ...              0   \n",
       "268070  2.767195        6       6           7  ...              0   \n",
       "268071  2.767195        6       6           7  ...              1   \n",
       "268072  3.249687        2       2          13  ...              0   \n",
       "268073  2.570417        6       6           7  ...              1   \n",
       "\n",
       "       timestamp_fh0 timestamp_fh1  timestamp_fh2  longest_word_fh0  \\\n",
       "0                0.0          -1.0            0.0               1.0   \n",
       "1                0.0           1.0            0.0               1.0   \n",
       "2               -1.0           0.0            0.0               1.0   \n",
       "3                0.0           1.0            0.0               1.0   \n",
       "4               -1.0           0.0            0.0               0.0   \n",
       "...              ...           ...            ...               ...   \n",
       "268069           0.0           1.0            0.0               0.0   \n",
       "268070           0.0           0.0           -1.0               1.0   \n",
       "268071           0.0           0.0            1.0               1.0   \n",
       "268072           0.0           0.0            1.0               1.0   \n",
       "268073           0.0           0.0           -1.0               1.0   \n",
       "\n",
       "        longest_word_fh1  longest_word_fh2  sld_fh0  sld_fh1  sld_fh2  \n",
       "0                    0.0               0.0     -1.0      0.0      0.0  \n",
       "1                    0.0               0.0     -1.0      0.0      0.0  \n",
       "2                    0.0               0.0     -1.0      0.0      0.0  \n",
       "3                    0.0               0.0     -1.0      0.0      0.0  \n",
       "4                    0.0               1.0      0.0      0.0      1.0  \n",
       "...                  ...               ...      ...      ...      ...  \n",
       "268069               0.0              -1.0      1.0      0.0      0.0  \n",
       "268070               0.0               0.0     -1.0      0.0      0.0  \n",
       "268071               0.0               0.0     -1.0      0.0      0.0  \n",
       "268072               0.0               0.0      0.0      1.0      0.0  \n",
       "268073               0.0               0.0     -1.0      0.0      0.0  \n",
       "\n",
       "[268074 rows x 25 columns]"
      ]
     },
     "execution_count": 19,
     "metadata": {},
     "output_type": "execute_result"
    }
   ],
   "source": [
    "df_1 = pd.concat([df,hashed1,hashed2,hashed3],axis=1)\n",
    "df_1"
   ]
  },
  {
   "cell_type": "code",
   "execution_count": 20,
   "id": "5db866f2",
   "metadata": {},
   "outputs": [
    {
     "data": {
      "text/html": [
       "<div>\n",
       "<style scoped>\n",
       "    .dataframe tbody tr th:only-of-type {\n",
       "        vertical-align: middle;\n",
       "    }\n",
       "\n",
       "    .dataframe tbody tr th {\n",
       "        vertical-align: top;\n",
       "    }\n",
       "\n",
       "    .dataframe thead th {\n",
       "        text-align: right;\n",
       "    }\n",
       "</style>\n",
       "<table border=\"1\" class=\"dataframe\">\n",
       "  <thead>\n",
       "    <tr style=\"text-align: right;\">\n",
       "      <th></th>\n",
       "      <th>FQDN_count</th>\n",
       "      <th>subdomain_length</th>\n",
       "      <th>upper</th>\n",
       "      <th>lower</th>\n",
       "      <th>numeric</th>\n",
       "      <th>entropy</th>\n",
       "      <th>special</th>\n",
       "      <th>labels</th>\n",
       "      <th>labels_max</th>\n",
       "      <th>labels_average</th>\n",
       "      <th>...</th>\n",
       "      <th>subdomain</th>\n",
       "      <th>timestamp_fh0</th>\n",
       "      <th>timestamp_fh1</th>\n",
       "      <th>timestamp_fh2</th>\n",
       "      <th>longest_word_fh0</th>\n",
       "      <th>longest_word_fh1</th>\n",
       "      <th>longest_word_fh2</th>\n",
       "      <th>sld_fh0</th>\n",
       "      <th>sld_fh1</th>\n",
       "      <th>sld_fh2</th>\n",
       "    </tr>\n",
       "  </thead>\n",
       "  <tbody>\n",
       "    <tr>\n",
       "      <th>0</th>\n",
       "      <td>27</td>\n",
       "      <td>10</td>\n",
       "      <td>0</td>\n",
       "      <td>10</td>\n",
       "      <td>11</td>\n",
       "      <td>2.570417</td>\n",
       "      <td>6</td>\n",
       "      <td>6</td>\n",
       "      <td>7</td>\n",
       "      <td>3.666667</td>\n",
       "      <td>...</td>\n",
       "      <td>1</td>\n",
       "      <td>0.0</td>\n",
       "      <td>-1.0</td>\n",
       "      <td>0.0</td>\n",
       "      <td>1.0</td>\n",
       "      <td>0.0</td>\n",
       "      <td>0.0</td>\n",
       "      <td>-1.0</td>\n",
       "      <td>0.0</td>\n",
       "      <td>0.0</td>\n",
       "    </tr>\n",
       "    <tr>\n",
       "      <th>1</th>\n",
       "      <td>27</td>\n",
       "      <td>10</td>\n",
       "      <td>0</td>\n",
       "      <td>10</td>\n",
       "      <td>11</td>\n",
       "      <td>2.767195</td>\n",
       "      <td>6</td>\n",
       "      <td>6</td>\n",
       "      <td>7</td>\n",
       "      <td>3.666667</td>\n",
       "      <td>...</td>\n",
       "      <td>1</td>\n",
       "      <td>0.0</td>\n",
       "      <td>1.0</td>\n",
       "      <td>0.0</td>\n",
       "      <td>1.0</td>\n",
       "      <td>0.0</td>\n",
       "      <td>0.0</td>\n",
       "      <td>-1.0</td>\n",
       "      <td>0.0</td>\n",
       "      <td>0.0</td>\n",
       "    </tr>\n",
       "    <tr>\n",
       "      <th>2</th>\n",
       "      <td>26</td>\n",
       "      <td>9</td>\n",
       "      <td>0</td>\n",
       "      <td>10</td>\n",
       "      <td>10</td>\n",
       "      <td>2.742338</td>\n",
       "      <td>6</td>\n",
       "      <td>6</td>\n",
       "      <td>7</td>\n",
       "      <td>3.500000</td>\n",
       "      <td>...</td>\n",
       "      <td>1</td>\n",
       "      <td>-1.0</td>\n",
       "      <td>0.0</td>\n",
       "      <td>0.0</td>\n",
       "      <td>1.0</td>\n",
       "      <td>0.0</td>\n",
       "      <td>0.0</td>\n",
       "      <td>-1.0</td>\n",
       "      <td>0.0</td>\n",
       "      <td>0.0</td>\n",
       "    </tr>\n",
       "    <tr>\n",
       "      <th>3</th>\n",
       "      <td>27</td>\n",
       "      <td>10</td>\n",
       "      <td>0</td>\n",
       "      <td>10</td>\n",
       "      <td>11</td>\n",
       "      <td>2.570417</td>\n",
       "      <td>6</td>\n",
       "      <td>6</td>\n",
       "      <td>7</td>\n",
       "      <td>3.666667</td>\n",
       "      <td>...</td>\n",
       "      <td>1</td>\n",
       "      <td>0.0</td>\n",
       "      <td>1.0</td>\n",
       "      <td>0.0</td>\n",
       "      <td>1.0</td>\n",
       "      <td>0.0</td>\n",
       "      <td>0.0</td>\n",
       "      <td>-1.0</td>\n",
       "      <td>0.0</td>\n",
       "      <td>0.0</td>\n",
       "    </tr>\n",
       "    <tr>\n",
       "      <th>4</th>\n",
       "      <td>15</td>\n",
       "      <td>9</td>\n",
       "      <td>0</td>\n",
       "      <td>11</td>\n",
       "      <td>0</td>\n",
       "      <td>2.929439</td>\n",
       "      <td>4</td>\n",
       "      <td>3</td>\n",
       "      <td>5</td>\n",
       "      <td>4.333333</td>\n",
       "      <td>...</td>\n",
       "      <td>1</td>\n",
       "      <td>-1.0</td>\n",
       "      <td>0.0</td>\n",
       "      <td>0.0</td>\n",
       "      <td>0.0</td>\n",
       "      <td>0.0</td>\n",
       "      <td>1.0</td>\n",
       "      <td>0.0</td>\n",
       "      <td>0.0</td>\n",
       "      <td>1.0</td>\n",
       "    </tr>\n",
       "    <tr>\n",
       "      <th>...</th>\n",
       "      <td>...</td>\n",
       "      <td>...</td>\n",
       "      <td>...</td>\n",
       "      <td>...</td>\n",
       "      <td>...</td>\n",
       "      <td>...</td>\n",
       "      <td>...</td>\n",
       "      <td>...</td>\n",
       "      <td>...</td>\n",
       "      <td>...</td>\n",
       "      <td>...</td>\n",
       "      <td>...</td>\n",
       "      <td>...</td>\n",
       "      <td>...</td>\n",
       "      <td>...</td>\n",
       "      <td>...</td>\n",
       "      <td>...</td>\n",
       "      <td>...</td>\n",
       "      <td>...</td>\n",
       "      <td>...</td>\n",
       "      <td>...</td>\n",
       "    </tr>\n",
       "    <tr>\n",
       "      <th>268069</th>\n",
       "      <td>18</td>\n",
       "      <td>3</td>\n",
       "      <td>0</td>\n",
       "      <td>16</td>\n",
       "      <td>0</td>\n",
       "      <td>2.338623</td>\n",
       "      <td>2</td>\n",
       "      <td>3</td>\n",
       "      <td>10</td>\n",
       "      <td>5.333333</td>\n",
       "      <td>...</td>\n",
       "      <td>1</td>\n",
       "      <td>0.0</td>\n",
       "      <td>1.0</td>\n",
       "      <td>0.0</td>\n",
       "      <td>0.0</td>\n",
       "      <td>0.0</td>\n",
       "      <td>-1.0</td>\n",
       "      <td>1.0</td>\n",
       "      <td>0.0</td>\n",
       "      <td>0.0</td>\n",
       "    </tr>\n",
       "    <tr>\n",
       "      <th>268070</th>\n",
       "      <td>27</td>\n",
       "      <td>10</td>\n",
       "      <td>0</td>\n",
       "      <td>10</td>\n",
       "      <td>11</td>\n",
       "      <td>2.767195</td>\n",
       "      <td>6</td>\n",
       "      <td>6</td>\n",
       "      <td>7</td>\n",
       "      <td>3.666667</td>\n",
       "      <td>...</td>\n",
       "      <td>1</td>\n",
       "      <td>0.0</td>\n",
       "      <td>0.0</td>\n",
       "      <td>-1.0</td>\n",
       "      <td>1.0</td>\n",
       "      <td>0.0</td>\n",
       "      <td>0.0</td>\n",
       "      <td>-1.0</td>\n",
       "      <td>0.0</td>\n",
       "      <td>0.0</td>\n",
       "    </tr>\n",
       "    <tr>\n",
       "      <th>268071</th>\n",
       "      <td>27</td>\n",
       "      <td>10</td>\n",
       "      <td>0</td>\n",
       "      <td>10</td>\n",
       "      <td>11</td>\n",
       "      <td>2.767195</td>\n",
       "      <td>6</td>\n",
       "      <td>6</td>\n",
       "      <td>7</td>\n",
       "      <td>3.666667</td>\n",
       "      <td>...</td>\n",
       "      <td>1</td>\n",
       "      <td>0.0</td>\n",
       "      <td>0.0</td>\n",
       "      <td>1.0</td>\n",
       "      <td>1.0</td>\n",
       "      <td>0.0</td>\n",
       "      <td>0.0</td>\n",
       "      <td>-1.0</td>\n",
       "      <td>0.0</td>\n",
       "      <td>0.0</td>\n",
       "    </tr>\n",
       "    <tr>\n",
       "      <th>268072</th>\n",
       "      <td>16</td>\n",
       "      <td>0</td>\n",
       "      <td>0</td>\n",
       "      <td>14</td>\n",
       "      <td>0</td>\n",
       "      <td>3.249687</td>\n",
       "      <td>2</td>\n",
       "      <td>2</td>\n",
       "      <td>13</td>\n",
       "      <td>7.500000</td>\n",
       "      <td>...</td>\n",
       "      <td>0</td>\n",
       "      <td>0.0</td>\n",
       "      <td>0.0</td>\n",
       "      <td>1.0</td>\n",
       "      <td>1.0</td>\n",
       "      <td>0.0</td>\n",
       "      <td>0.0</td>\n",
       "      <td>0.0</td>\n",
       "      <td>1.0</td>\n",
       "      <td>0.0</td>\n",
       "    </tr>\n",
       "    <tr>\n",
       "      <th>268073</th>\n",
       "      <td>27</td>\n",
       "      <td>10</td>\n",
       "      <td>0</td>\n",
       "      <td>10</td>\n",
       "      <td>11</td>\n",
       "      <td>2.570417</td>\n",
       "      <td>6</td>\n",
       "      <td>6</td>\n",
       "      <td>7</td>\n",
       "      <td>3.666667</td>\n",
       "      <td>...</td>\n",
       "      <td>1</td>\n",
       "      <td>0.0</td>\n",
       "      <td>0.0</td>\n",
       "      <td>-1.0</td>\n",
       "      <td>1.0</td>\n",
       "      <td>0.0</td>\n",
       "      <td>0.0</td>\n",
       "      <td>-1.0</td>\n",
       "      <td>0.0</td>\n",
       "      <td>0.0</td>\n",
       "    </tr>\n",
       "  </tbody>\n",
       "</table>\n",
       "<p>268074 rows × 21 columns</p>\n",
       "</div>"
      ],
      "text/plain": [
       "        FQDN_count  subdomain_length  upper  lower  numeric   entropy  \\\n",
       "0               27                10      0     10       11  2.570417   \n",
       "1               27                10      0     10       11  2.767195   \n",
       "2               26                 9      0     10       10  2.742338   \n",
       "3               27                10      0     10       11  2.570417   \n",
       "4               15                 9      0     11        0  2.929439   \n",
       "...            ...               ...    ...    ...      ...       ...   \n",
       "268069          18                 3      0     16        0  2.338623   \n",
       "268070          27                10      0     10       11  2.767195   \n",
       "268071          27                10      0     10       11  2.767195   \n",
       "268072          16                 0      0     14        0  3.249687   \n",
       "268073          27                10      0     10       11  2.570417   \n",
       "\n",
       "        special  labels  labels_max  labels_average  ...  subdomain  \\\n",
       "0             6       6           7        3.666667  ...          1   \n",
       "1             6       6           7        3.666667  ...          1   \n",
       "2             6       6           7        3.500000  ...          1   \n",
       "3             6       6           7        3.666667  ...          1   \n",
       "4             4       3           5        4.333333  ...          1   \n",
       "...         ...     ...         ...             ...  ...        ...   \n",
       "268069        2       3          10        5.333333  ...          1   \n",
       "268070        6       6           7        3.666667  ...          1   \n",
       "268071        6       6           7        3.666667  ...          1   \n",
       "268072        2       2          13        7.500000  ...          0   \n",
       "268073        6       6           7        3.666667  ...          1   \n",
       "\n",
       "        timestamp_fh0  timestamp_fh1  timestamp_fh2  longest_word_fh0  \\\n",
       "0                 0.0           -1.0            0.0               1.0   \n",
       "1                 0.0            1.0            0.0               1.0   \n",
       "2                -1.0            0.0            0.0               1.0   \n",
       "3                 0.0            1.0            0.0               1.0   \n",
       "4                -1.0            0.0            0.0               0.0   \n",
       "...               ...            ...            ...               ...   \n",
       "268069            0.0            1.0            0.0               0.0   \n",
       "268070            0.0            0.0           -1.0               1.0   \n",
       "268071            0.0            0.0            1.0               1.0   \n",
       "268072            0.0            0.0            1.0               1.0   \n",
       "268073            0.0            0.0           -1.0               1.0   \n",
       "\n",
       "        longest_word_fh1  longest_word_fh2  sld_fh0  sld_fh1  sld_fh2  \n",
       "0                    0.0               0.0     -1.0      0.0      0.0  \n",
       "1                    0.0               0.0     -1.0      0.0      0.0  \n",
       "2                    0.0               0.0     -1.0      0.0      0.0  \n",
       "3                    0.0               0.0     -1.0      0.0      0.0  \n",
       "4                    0.0               1.0      0.0      0.0      1.0  \n",
       "...                  ...               ...      ...      ...      ...  \n",
       "268069               0.0              -1.0      1.0      0.0      0.0  \n",
       "268070               0.0               0.0     -1.0      0.0      0.0  \n",
       "268071               0.0               0.0     -1.0      0.0      0.0  \n",
       "268072               0.0               0.0      0.0      1.0      0.0  \n",
       "268073               0.0               0.0     -1.0      0.0      0.0  \n",
       "\n",
       "[268074 rows x 21 columns]"
      ]
     },
     "execution_count": 20,
     "metadata": {},
     "output_type": "execute_result"
    }
   ],
   "source": [
    "X =df_1.drop([\"timestamp\", \"longest_word\", \"sld\", \"Target Attack\"], axis = 1)\n",
    "X"
   ]
  },
  {
   "cell_type": "code",
   "execution_count": 21,
   "id": "01a01f62",
   "metadata": {},
   "outputs": [
    {
     "data": {
      "text/plain": [
       "0         1\n",
       "1         1\n",
       "2         0\n",
       "3         1\n",
       "4         1\n",
       "         ..\n",
       "268069    0\n",
       "268070    0\n",
       "268071    1\n",
       "268072    0\n",
       "268073    1\n",
       "Name: Target Attack, Length: 268074, dtype: int64"
      ]
     },
     "execution_count": 21,
     "metadata": {},
     "output_type": "execute_result"
    }
   ],
   "source": [
    "y = df[\"Target Attack\"]\n",
    "y"
   ]
  },
  {
   "cell_type": "markdown",
   "id": "4c023f4f",
   "metadata": {},
   "source": [
    "## Feature selection using SelectKBest"
   ]
  },
  {
   "cell_type": "code",
   "execution_count": 22,
   "id": "24f41e8b",
   "metadata": {},
   "outputs": [
    {
     "data": {
      "text/plain": [
       "Index(['FQDN_count', 'subdomain_length', 'lower', 'numeric', 'entropy',\n",
       "       'special', 'labels', 'labels_max', 'labels_average', 'len',\n",
       "       'subdomain'],\n",
       "      dtype='object')"
      ]
     },
     "execution_count": 22,
     "metadata": {},
     "output_type": "execute_result"
    }
   ],
   "source": [
    "from sklearn.feature_selection import SelectKBest, mutual_info_regression\n",
    "#Select top features based on mutual info regression\n",
    "selector = SelectKBest(mutual_info_regression, k =11)\n",
    "selector.fit(X, y)\n",
    "X.columns[selector.get_support()]"
   ]
  },
  {
   "cell_type": "code",
   "execution_count": 23,
   "id": "d2120e34",
   "metadata": {},
   "outputs": [
    {
     "name": "stderr",
     "output_type": "stream",
     "text": [
      "d:\\softwares\\Python\\lib\\site-packages\\sklearn\\linear_model\\_logistic.py:444: ConvergenceWarning: lbfgs failed to converge (status=1):\n",
      "STOP: TOTAL NO. of ITERATIONS REACHED LIMIT.\n",
      "\n",
      "Increase the number of iterations (max_iter) or scale the data as shown in:\n",
      "    https://scikit-learn.org/stable/modules/preprocessing.html\n",
      "Please also refer to the documentation for alternative solver options:\n",
      "    https://scikit-learn.org/stable/modules/linear_model.html#logistic-regression\n",
      "  n_iter_i = _check_optimize_result(\n",
      "d:\\softwares\\Python\\lib\\site-packages\\sklearn\\linear_model\\_logistic.py:444: ConvergenceWarning: lbfgs failed to converge (status=1):\n",
      "STOP: TOTAL NO. of ITERATIONS REACHED LIMIT.\n",
      "\n",
      "Increase the number of iterations (max_iter) or scale the data as shown in:\n",
      "    https://scikit-learn.org/stable/modules/preprocessing.html\n",
      "Please also refer to the documentation for alternative solver options:\n",
      "    https://scikit-learn.org/stable/modules/linear_model.html#logistic-regression\n",
      "  n_iter_i = _check_optimize_result(\n"
     ]
    },
    {
     "data": {
      "text/plain": [
       "Index(['subdomain_length', 'lower', 'numeric', 'special', 'labels_max', 'len',\n",
       "       'longest_word_fh0', 'longest_word_fh1', 'sld_fh0', 'sld_fh1',\n",
       "       'sld_fh2'],\n",
       "      dtype='object')"
      ]
     },
     "execution_count": 23,
     "metadata": {},
     "output_type": "execute_result"
    }
   ],
   "source": [
    "#feature selection using RFE\n",
    "from sklearn.feature_selection import RFE\n",
    "from sklearn.linear_model import LogisticRegression\n",
    "# #Selecting the Best important features according to Logistic Regression\n",
    "rfe_selector = RFE(estimator=LogisticRegression(),n_features_to_select = 11, step = 11)\n",
    "rfe_selector.fit(X, y)\n",
    "X.columns[rfe_selector.get_support()]"
   ]
  },
  {
   "cell_type": "markdown",
   "id": "f5b029a0",
   "metadata": {},
   "source": [
    "## choosing best features"
   ]
  },
  {
   "cell_type": "code",
   "execution_count": 24,
   "id": "2eb74f55",
   "metadata": {},
   "outputs": [
    {
     "data": {
      "text/html": [
       "<div>\n",
       "<style scoped>\n",
       "    .dataframe tbody tr th:only-of-type {\n",
       "        vertical-align: middle;\n",
       "    }\n",
       "\n",
       "    .dataframe tbody tr th {\n",
       "        vertical-align: top;\n",
       "    }\n",
       "\n",
       "    .dataframe thead th {\n",
       "        text-align: right;\n",
       "    }\n",
       "</style>\n",
       "<table border=\"1\" class=\"dataframe\">\n",
       "  <thead>\n",
       "    <tr style=\"text-align: right;\">\n",
       "      <th></th>\n",
       "      <th>subdomain_length</th>\n",
       "      <th>lower</th>\n",
       "      <th>numeric</th>\n",
       "      <th>special</th>\n",
       "      <th>labels_max</th>\n",
       "      <th>len</th>\n",
       "      <th>longest_word_fh0</th>\n",
       "      <th>longest_word_fh1</th>\n",
       "      <th>sld_fh0</th>\n",
       "      <th>sld_fh1</th>\n",
       "      <th>sld_fh2</th>\n",
       "    </tr>\n",
       "  </thead>\n",
       "  <tbody>\n",
       "    <tr>\n",
       "      <th>0</th>\n",
       "      <td>10</td>\n",
       "      <td>10</td>\n",
       "      <td>11</td>\n",
       "      <td>6</td>\n",
       "      <td>7</td>\n",
       "      <td>14</td>\n",
       "      <td>1.0</td>\n",
       "      <td>0.0</td>\n",
       "      <td>-1.0</td>\n",
       "      <td>0.0</td>\n",
       "      <td>0.0</td>\n",
       "    </tr>\n",
       "    <tr>\n",
       "      <th>1</th>\n",
       "      <td>10</td>\n",
       "      <td>10</td>\n",
       "      <td>11</td>\n",
       "      <td>6</td>\n",
       "      <td>7</td>\n",
       "      <td>14</td>\n",
       "      <td>1.0</td>\n",
       "      <td>0.0</td>\n",
       "      <td>-1.0</td>\n",
       "      <td>0.0</td>\n",
       "      <td>0.0</td>\n",
       "    </tr>\n",
       "    <tr>\n",
       "      <th>2</th>\n",
       "      <td>9</td>\n",
       "      <td>10</td>\n",
       "      <td>10</td>\n",
       "      <td>6</td>\n",
       "      <td>7</td>\n",
       "      <td>13</td>\n",
       "      <td>1.0</td>\n",
       "      <td>0.0</td>\n",
       "      <td>-1.0</td>\n",
       "      <td>0.0</td>\n",
       "      <td>0.0</td>\n",
       "    </tr>\n",
       "    <tr>\n",
       "      <th>3</th>\n",
       "      <td>10</td>\n",
       "      <td>10</td>\n",
       "      <td>11</td>\n",
       "      <td>6</td>\n",
       "      <td>7</td>\n",
       "      <td>14</td>\n",
       "      <td>1.0</td>\n",
       "      <td>0.0</td>\n",
       "      <td>-1.0</td>\n",
       "      <td>0.0</td>\n",
       "      <td>0.0</td>\n",
       "    </tr>\n",
       "    <tr>\n",
       "      <th>4</th>\n",
       "      <td>9</td>\n",
       "      <td>11</td>\n",
       "      <td>0</td>\n",
       "      <td>4</td>\n",
       "      <td>5</td>\n",
       "      <td>15</td>\n",
       "      <td>0.0</td>\n",
       "      <td>0.0</td>\n",
       "      <td>0.0</td>\n",
       "      <td>0.0</td>\n",
       "      <td>1.0</td>\n",
       "    </tr>\n",
       "    <tr>\n",
       "      <th>...</th>\n",
       "      <td>...</td>\n",
       "      <td>...</td>\n",
       "      <td>...</td>\n",
       "      <td>...</td>\n",
       "      <td>...</td>\n",
       "      <td>...</td>\n",
       "      <td>...</td>\n",
       "      <td>...</td>\n",
       "      <td>...</td>\n",
       "      <td>...</td>\n",
       "      <td>...</td>\n",
       "    </tr>\n",
       "    <tr>\n",
       "      <th>268069</th>\n",
       "      <td>3</td>\n",
       "      <td>16</td>\n",
       "      <td>0</td>\n",
       "      <td>2</td>\n",
       "      <td>10</td>\n",
       "      <td>14</td>\n",
       "      <td>0.0</td>\n",
       "      <td>0.0</td>\n",
       "      <td>1.0</td>\n",
       "      <td>0.0</td>\n",
       "      <td>0.0</td>\n",
       "    </tr>\n",
       "    <tr>\n",
       "      <th>268070</th>\n",
       "      <td>10</td>\n",
       "      <td>10</td>\n",
       "      <td>11</td>\n",
       "      <td>6</td>\n",
       "      <td>7</td>\n",
       "      <td>14</td>\n",
       "      <td>1.0</td>\n",
       "      <td>0.0</td>\n",
       "      <td>-1.0</td>\n",
       "      <td>0.0</td>\n",
       "      <td>0.0</td>\n",
       "    </tr>\n",
       "    <tr>\n",
       "      <th>268071</th>\n",
       "      <td>10</td>\n",
       "      <td>10</td>\n",
       "      <td>11</td>\n",
       "      <td>6</td>\n",
       "      <td>7</td>\n",
       "      <td>14</td>\n",
       "      <td>1.0</td>\n",
       "      <td>0.0</td>\n",
       "      <td>-1.0</td>\n",
       "      <td>0.0</td>\n",
       "      <td>0.0</td>\n",
       "    </tr>\n",
       "    <tr>\n",
       "      <th>268072</th>\n",
       "      <td>0</td>\n",
       "      <td>14</td>\n",
       "      <td>0</td>\n",
       "      <td>2</td>\n",
       "      <td>13</td>\n",
       "      <td>14</td>\n",
       "      <td>1.0</td>\n",
       "      <td>0.0</td>\n",
       "      <td>0.0</td>\n",
       "      <td>1.0</td>\n",
       "      <td>0.0</td>\n",
       "    </tr>\n",
       "    <tr>\n",
       "      <th>268073</th>\n",
       "      <td>10</td>\n",
       "      <td>10</td>\n",
       "      <td>11</td>\n",
       "      <td>6</td>\n",
       "      <td>7</td>\n",
       "      <td>14</td>\n",
       "      <td>1.0</td>\n",
       "      <td>0.0</td>\n",
       "      <td>-1.0</td>\n",
       "      <td>0.0</td>\n",
       "      <td>0.0</td>\n",
       "    </tr>\n",
       "  </tbody>\n",
       "</table>\n",
       "<p>268074 rows × 11 columns</p>\n",
       "</div>"
      ],
      "text/plain": [
       "        subdomain_length  lower  numeric  special  labels_max  len  \\\n",
       "0                     10     10       11        6           7   14   \n",
       "1                     10     10       11        6           7   14   \n",
       "2                      9     10       10        6           7   13   \n",
       "3                     10     10       11        6           7   14   \n",
       "4                      9     11        0        4           5   15   \n",
       "...                  ...    ...      ...      ...         ...  ...   \n",
       "268069                 3     16        0        2          10   14   \n",
       "268070                10     10       11        6           7   14   \n",
       "268071                10     10       11        6           7   14   \n",
       "268072                 0     14        0        2          13   14   \n",
       "268073                10     10       11        6           7   14   \n",
       "\n",
       "        longest_word_fh0  longest_word_fh1  sld_fh0  sld_fh1  sld_fh2  \n",
       "0                    1.0               0.0     -1.0      0.0      0.0  \n",
       "1                    1.0               0.0     -1.0      0.0      0.0  \n",
       "2                    1.0               0.0     -1.0      0.0      0.0  \n",
       "3                    1.0               0.0     -1.0      0.0      0.0  \n",
       "4                    0.0               0.0      0.0      0.0      1.0  \n",
       "...                  ...               ...      ...      ...      ...  \n",
       "268069               0.0               0.0      1.0      0.0      0.0  \n",
       "268070               1.0               0.0     -1.0      0.0      0.0  \n",
       "268071               1.0               0.0     -1.0      0.0      0.0  \n",
       "268072               1.0               0.0      0.0      1.0      0.0  \n",
       "268073               1.0               0.0     -1.0      0.0      0.0  \n",
       "\n",
       "[268074 rows x 11 columns]"
      ]
     },
     "execution_count": 24,
     "metadata": {},
     "output_type": "execute_result"
    }
   ],
   "source": [
    "train_labels = X[['subdomain_length', 'lower', 'numeric', 'special', 'labels_max', 'len',\n",
    "       'longest_word_fh0', 'longest_word_fh1', 'sld_fh0', 'sld_fh1',\n",
    "       'sld_fh2']]\n",
    "train_labels"
   ]
  },
  {
   "cell_type": "markdown",
   "id": "45808ed0",
   "metadata": {},
   "source": [
    "## Normalizing the dataset"
   ]
  },
  {
   "cell_type": "code",
   "execution_count": 25,
   "id": "5ac57dac",
   "metadata": {},
   "outputs": [
    {
     "data": {
      "text/plain": [
       "array([[0.43478261, 0.29411765, 0.91666667, ..., 0.        , 0.5       ,\n",
       "        0.5       ],\n",
       "       [0.43478261, 0.29411765, 0.91666667, ..., 0.        , 0.5       ,\n",
       "        0.5       ],\n",
       "       [0.39130435, 0.29411765, 0.83333333, ..., 0.        , 0.5       ,\n",
       "        0.5       ],\n",
       "       ...,\n",
       "       [0.43478261, 0.29411765, 0.91666667, ..., 0.        , 0.5       ,\n",
       "        0.5       ],\n",
       "       [0.        , 0.41176471, 0.        , ..., 0.5       , 1.        ,\n",
       "        0.5       ],\n",
       "       [0.43478261, 0.29411765, 0.91666667, ..., 0.        , 0.5       ,\n",
       "        0.5       ]])"
      ]
     },
     "execution_count": 25,
     "metadata": {},
     "output_type": "execute_result"
    }
   ],
   "source": [
    "from sklearn.preprocessing import MinMaxScaler\n",
    "scaler = MinMaxScaler()\n",
    "scaler.fit(train_labels)\n",
    "transform_data = scaler.transform(train_labels)\n",
    "transform_data"
   ]
  },
  {
   "cell_type": "markdown",
   "id": "f69972b6",
   "metadata": {},
   "source": [
    "## Splitting the Dataset"
   ]
  },
  {
   "cell_type": "markdown",
   "id": "5921433f",
   "metadata": {},
   "source": [
    "## 70 30 split"
   ]
  },
  {
   "cell_type": "code",
   "execution_count": 26,
   "id": "7fdd9361",
   "metadata": {},
   "outputs": [],
   "source": [
    "X_train, X_test, y_train, y_test = train_test_split(train_labels,y ,\n",
    "                                   random_state=104, \n",
    "                                   test_size=0.30, \n",
    "                                   shuffle=True)"
   ]
  },
  {
   "cell_type": "markdown",
   "id": "77bfea4c",
   "metadata": {},
   "source": [
    "### Random Forest"
   ]
  },
  {
   "cell_type": "code",
   "execution_count": 27,
   "id": "66f761e7",
   "metadata": {},
   "outputs": [],
   "source": [
    "from sklearn.ensemble import RandomForestClassifier\n",
    "Random_forest_model=RandomForestClassifier(n_estimators=300)\n",
    "Random_forest_model.fit(X_train,y_train)\n",
    "\n",
    "rf_predicted=Random_forest_model.predict(X_test)"
   ]
  },
  {
   "cell_type": "code",
   "execution_count": 28,
   "id": "2776cc50",
   "metadata": {},
   "outputs": [
    {
     "name": "stdout",
     "output_type": "stream",
     "text": [
      "0.8261442622135459\n"
     ]
    }
   ],
   "source": [
    "print(Random_forest_model.score(X_test,y_test))"
   ]
  },
  {
   "cell_type": "markdown",
   "id": "5b9258f8",
   "metadata": {},
   "source": [
    "### Decision Tree"
   ]
  },
  {
   "cell_type": "code",
   "execution_count": 29,
   "id": "a9a214cf",
   "metadata": {},
   "outputs": [],
   "source": [
    "from sklearn.tree import DecisionTreeClassifier # Import Decision Tree Classifier\n",
    "Des_tree_model = DecisionTreeClassifier(criterion=\"entropy\", max_depth=10, min_samples_leaf=5,min_samples_split=10)\n",
    "Des_tree_model.fit(X_train, y_train)\n",
    "Descision_tree_predicted = Des_tree_model.predict(X_test)"
   ]
  },
  {
   "cell_type": "code",
   "execution_count": 30,
   "id": "e43ebd1b",
   "metadata": {},
   "outputs": [
    {
     "name": "stdout",
     "output_type": "stream",
     "text": [
      "0.8259826169130722\n"
     ]
    }
   ],
   "source": [
    "print(Des_tree_model.score(X_test,y_test))"
   ]
  },
  {
   "cell_type": "markdown",
   "id": "830b32d1",
   "metadata": {},
   "source": [
    "### KNN"
   ]
  },
  {
   "cell_type": "code",
   "execution_count": 31,
   "id": "238ff776",
   "metadata": {},
   "outputs": [],
   "source": [
    "from sklearn.neighbors import KNeighborsClassifier\n",
    "knn_model = KNeighborsClassifier(n_neighbors=50)\n",
    "knn_model.fit(X_train, y_train) \n",
    "knn_pred = knn_model.predict(X_test)"
   ]
  },
  {
   "cell_type": "code",
   "execution_count": 32,
   "id": "91caf0b8",
   "metadata": {},
   "outputs": [
    {
     "name": "stdout",
     "output_type": "stream",
     "text": [
      "0.8255971550427117\n"
     ]
    }
   ],
   "source": [
    "print(knn_model.score(X_test,y_test))"
   ]
  },
  {
   "cell_type": "markdown",
   "id": "e79f0078",
   "metadata": {},
   "source": [
    "We can conclude that the accuracy is maximum for Random forest"
   ]
  },
  {
   "cell_type": "markdown",
   "id": "09bf09ca",
   "metadata": {},
   "source": [
    "## 80 20 Split"
   ]
  },
  {
   "cell_type": "code",
   "execution_count": 33,
   "id": "c22969a3",
   "metadata": {},
   "outputs": [],
   "source": [
    "X_train, X_test, y_train, y_test = train_test_split(train_labels,y ,\n",
    "                                   random_state=104, \n",
    "                                   test_size=0.20, \n",
    "                                   shuffle=True)"
   ]
  },
  {
   "cell_type": "markdown",
   "id": "f8acbdfc",
   "metadata": {},
   "source": [
    "### Random Forest"
   ]
  },
  {
   "cell_type": "code",
   "execution_count": 34,
   "id": "194d72ca",
   "metadata": {},
   "outputs": [
    {
     "name": "stdout",
     "output_type": "stream",
     "text": [
      "0.8268954583605335\n"
     ]
    }
   ],
   "source": [
    "from sklearn.ensemble import RandomForestClassifier\n",
    "Random_forest_model=RandomForestClassifier(n_estimators=300)\n",
    "Random_forest_model.fit(X_train,y_train)\n",
    "\n",
    "rf_predicted=Random_forest_model.predict(X_test)\n",
    "print(Random_forest_model.score(X_test,y_test))"
   ]
  },
  {
   "cell_type": "markdown",
   "id": "04da454d",
   "metadata": {},
   "source": [
    "### Descision Tree"
   ]
  },
  {
   "cell_type": "code",
   "execution_count": 35,
   "id": "a5dc9ac5",
   "metadata": {},
   "outputs": [
    {
     "name": "stdout",
     "output_type": "stream",
     "text": [
      "0.8267835493798378\n"
     ]
    }
   ],
   "source": [
    "from sklearn.tree import DecisionTreeClassifier # Import Decision Tree Classifier\n",
    "Des_tree_model = DecisionTreeClassifier(criterion=\"entropy\", max_depth=10, min_samples_leaf=5,min_samples_split=10)\n",
    "Des_tree_model.fit(X_train, y_train)\n",
    "Descision_tree_predicted = Des_tree_model.predict(X_test)\n",
    "print(Des_tree_model.score(X_test,y_test))"
   ]
  },
  {
   "cell_type": "markdown",
   "id": "ab175232",
   "metadata": {},
   "source": [
    "### KNN"
   ]
  },
  {
   "cell_type": "code",
   "execution_count": 36,
   "id": "183ed99d",
   "metadata": {},
   "outputs": [
    {
     "name": "stdout",
     "output_type": "stream",
     "text": [
      "0.8263172619602723\n"
     ]
    }
   ],
   "source": [
    "from sklearn.neighbors import KNeighborsClassifier\n",
    "knn_model = KNeighborsClassifier(n_neighbors=50)\n",
    "knn_model.fit(X_train, y_train) \n",
    "knn_pred = knn_model.predict(X_test)\n",
    "print(knn_model.score(X_test,y_test))"
   ]
  },
  {
   "cell_type": "markdown",
   "id": "9ec78492",
   "metadata": {},
   "source": [
    "## 90 10 Split"
   ]
  },
  {
   "cell_type": "code",
   "execution_count": 37,
   "id": "0de04092",
   "metadata": {},
   "outputs": [],
   "source": [
    "X_train, X_test, y_train, y_test = train_test_split(train_labels,y ,\n",
    "                                   random_state=104, \n",
    "                                   test_size=0.10, \n",
    "                                   shuffle=True)"
   ]
  },
  {
   "cell_type": "markdown",
   "id": "b9726969",
   "metadata": {},
   "source": [
    "### Random Forest"
   ]
  },
  {
   "cell_type": "code",
   "execution_count": 38,
   "id": "722aed81",
   "metadata": {},
   "outputs": [
    {
     "name": "stdout",
     "output_type": "stream",
     "text": [
      "0.8290062667860341\n"
     ]
    }
   ],
   "source": [
    "from sklearn.ensemble import RandomForestClassifier\n",
    "Random_forest_model=RandomForestClassifier(n_estimators=300)\n",
    "Random_forest_model.fit(X_train,y_train)\n",
    "\n",
    "rf_predicted=Random_forest_model.predict(X_test)\n",
    "print(Random_forest_model.score(X_test,y_test))"
   ]
  },
  {
   "cell_type": "markdown",
   "id": "fa2ee31e",
   "metadata": {},
   "source": [
    "### Decision Tree"
   ]
  },
  {
   "cell_type": "code",
   "execution_count": 39,
   "id": "0cc27a70",
   "metadata": {},
   "outputs": [
    {
     "name": "stdout",
     "output_type": "stream",
     "text": [
      "0.8289689644882124\n"
     ]
    }
   ],
   "source": [
    "from sklearn.tree import DecisionTreeClassifier # Import Decision Tree Classifier\n",
    "Des_tree_model = DecisionTreeClassifier(criterion=\"entropy\", max_depth=10, min_samples_leaf=5,min_samples_split=10)\n",
    "Des_tree_model.fit(X_train, y_train)\n",
    "Descision_tree_predicted = Des_tree_model.predict(X_test)\n",
    "print(Des_tree_model.score(X_test,y_test))"
   ]
  },
  {
   "cell_type": "markdown",
   "id": "59067ad7",
   "metadata": {},
   "source": [
    "### KNN"
   ]
  },
  {
   "cell_type": "code",
   "execution_count": 40,
   "id": "7716387c",
   "metadata": {},
   "outputs": [
    {
     "name": "stdout",
     "output_type": "stream",
     "text": [
      "0.8282975231274247\n"
     ]
    }
   ],
   "source": [
    "from sklearn.neighbors import KNeighborsClassifier\n",
    "knn_model = KNeighborsClassifier(n_neighbors=50)\n",
    "knn_model.fit(X_train, y_train) \n",
    "knn_pred = knn_model.predict(X_test)\n",
    "print(knn_model.score(X_test,y_test))"
   ]
  },
  {
   "cell_type": "markdown",
   "id": "08e30163",
   "metadata": {},
   "source": [
    "## Tuning the random forest "
   ]
  },
  {
   "cell_type": "markdown",
   "id": "ca233233",
   "metadata": {},
   "source": [
    "N estimators"
   ]
  },
  {
   "cell_type": "code",
   "execution_count": 41,
   "id": "c9261a16",
   "metadata": {},
   "outputs": [
    {
     "name": "stdout",
     "output_type": "stream",
     "text": [
      "0.8290062667860341\n",
      "0.8290062667860341\n",
      "0.8290062667860341\n",
      "0.8290062667860341\n",
      "0.8290062667860341\n",
      "0.8290062667860341\n",
      "0.8290062667860341\n",
      "0.8290062667860341\n",
      "0.8290062667860341\n"
     ]
    }
   ],
   "source": [
    "for i in range(1,10):\n",
    "    from sklearn.ensemble import RandomForestClassifier\n",
    "    Random_forest_model=RandomForestClassifier(n_estimators=(i*100))\n",
    "    Random_forest_model.fit(X_train,y_train)\n",
    "\n",
    "    # rf_predicted=Random_forest_model.predict(X_test)\n",
    "    print(Random_forest_model.score(X_test,y_test))"
   ]
  },
  {
   "cell_type": "markdown",
   "id": "558104f3",
   "metadata": {},
   "source": [
    "The accuracy remains same for all the n_estimators "
   ]
  },
  {
   "cell_type": "code",
   "execution_count": 42,
   "id": "71448f7e",
   "metadata": {},
   "outputs": [
    {
     "name": "stdout",
     "output_type": "stream",
     "text": [
      "0.8092360489406147\n",
      "0.8213965980304386\n",
      "0.8272530587884214\n",
      "0.8277379886601015\n",
      "0.8282975231274247\n",
      "0.8282975231274247\n",
      "0.8283721277230678\n",
      "0.8288570575947478\n",
      "0.8289689644882124\n",
      "0.8289689644882124\n",
      "0.8290062667860341\n",
      "0.8290062667860341\n",
      "0.8290062667860341\n",
      "0.8290062667860341\n",
      "0.8290062667860341\n",
      "0.8290062667860341\n",
      "0.8290062667860341\n",
      "0.8290062667860341\n",
      "0.8290062667860341\n",
      "0.8290062667860341\n",
      "0.8290062667860341\n",
      "0.8290062667860341\n",
      "0.8290062667860341\n",
      "0.8290062667860341\n",
      "0.8290062667860341\n",
      "0.8290062667860341\n",
      "0.8290062667860341\n",
      "0.8290062667860341\n",
      "0.8290062667860341\n",
      "0.8290062667860341\n",
      "0.8290062667860341\n"
     ]
    }
   ],
   "source": [
    "for i in range(1,32):\n",
    "    from sklearn.ensemble import RandomForestClassifier\n",
    "    Random_forest_model=RandomForestClassifier(max_depth=i)\n",
    "    Random_forest_model.fit(X_train,y_train)\n",
    "\n",
    "    # rf_predicted=Random_forest_model.predict(X_test)\n",
    "    print(Random_forest_model.score(X_test,y_test))"
   ]
  },
  {
   "cell_type": "markdown",
   "id": "92e4d6c2",
   "metadata": {},
   "source": [
    "we can observe after max depth = 11 the accuracy remains same "
   ]
  },
  {
   "cell_type": "code",
   "execution_count": 43,
   "id": "4c5125f4",
   "metadata": {},
   "outputs": [
    {
     "name": "stdout",
     "output_type": "stream",
     "text": [
      "0.8290062667860341\n"
     ]
    }
   ],
   "source": [
    "# final random forest model\n",
    "from sklearn.ensemble import RandomForestClassifier\n",
    "Random_forest_model=RandomForestClassifier(n_estimators=500,max_depth=12)\n",
    "Random_forest_model.fit(X_train,y_train)\n",
    "rf_predicted=Random_forest_model.predict(X_test)\n",
    "print(Random_forest_model.score(X_test,y_test))"
   ]
  },
  {
   "cell_type": "markdown",
   "id": "1236d613",
   "metadata": {},
   "source": [
    "## Analyzing the Random Forest model"
   ]
  },
  {
   "cell_type": "code",
   "execution_count": 44,
   "id": "02936f29",
   "metadata": {},
   "outputs": [
    {
     "name": "stdout",
     "output_type": "stream",
     "text": [
      "Confusion matrix\n",
      "\n",
      " [[ 7634  4580]\n",
      " [    4 14590]]\n",
      "\n",
      "True Positives(TP) =  7634\n",
      "\n",
      "True Negatives(TN) =  14590\n",
      "\n",
      "False Positives(FP) =  4580\n",
      "\n",
      "False Negatives(FN) =  4\n"
     ]
    }
   ],
   "source": [
    "#confusion matrix of Random Forest model\n",
    "from sklearn.metrics import confusion_matrix\n",
    "cm = confusion_matrix(y_test, rf_predicted)\n",
    "print('Confusion matrix\\n\\n', cm)\n",
    "print('\\nTrue Positives(TP) = ', cm[0,0])\n",
    "print('\\nTrue Negatives(TN) = ', cm[1,1])\n",
    "print('\\nFalse Positives(FP) = ', cm[0,1])\n",
    "print('\\nFalse Negatives(FN) = ', cm[1,0])"
   ]
  },
  {
   "cell_type": "code",
   "execution_count": 45,
   "id": "3b930c1f",
   "metadata": {},
   "outputs": [],
   "source": [
    "#confusion matrix plot of model\n",
    "def confusio_matrix(y_test, pred):\n",
    "  cm = confusion_matrix(y_test, pred)\n",
    "  plt.figure(figsize=(15,10))\n",
    "  plt.clf()\n",
    "  plt.imshow(cm, interpolation='nearest', cmap=plt.cm.Wistia)\n",
    "  classNames = ['Negative','Positive']\n",
    "  plt.title('Random Forest model confusion matrix')\n",
    "  plt.ylabel('True label')\n",
    "  plt.xlabel('Predicted label')\n",
    "  tick_marks = np.arange(len(classNames))\n",
    "  plt.xticks(tick_marks, classNames, rotation=45)\n",
    "  plt.yticks(tick_marks, classNames)\n",
    "  s = [['TN','FP'], ['FN', 'TP']]\n",
    "  \n",
    "  for i in range(2):\n",
    "      for j in range(2):\n",
    "          plt.text(j,i, str(s[i][j])+\" = \"+str(cm[i][j]))\n",
    "  plt.show()"
   ]
  },
  {
   "cell_type": "code",
   "execution_count": 46,
   "id": "393f9b71",
   "metadata": {},
   "outputs": [
    {
     "data": {
      "image/png": "[encoded data removed]",
      "text/plain": [
       "<Figure size 1080x720 with 1 Axes>"
      ]
     },
     "metadata": {
      "needs_background": "light"
     },
     "output_type": "display_data"
    }
   ],
   "source": [
    "confusio_matrix(y_test,rf_predicted)"
   ]
  },
  {
   "cell_type": "code",
   "execution_count": 47,
   "id": "c6f5c4e4",
   "metadata": {},
   "outputs": [
    {
     "data": {
      "image/png": "[encoded data removed]",
      "text/plain": [
       "<Figure size 432x288 with 1 Axes>"
      ]
     },
     "metadata": {
      "needs_background": "light"
     },
     "output_type": "display_data"
    }
   ],
   "source": [
    "#ROC curve of Randomforest model\n",
    "from sklearn.metrics import RocCurveDisplay\n",
    "RF_disp = RocCurveDisplay.from_estimator(Random_forest_model, X_test, y_test)"
   ]
  },
  {
   "cell_type": "code",
   "execution_count": 48,
   "id": "bed45cc5",
   "metadata": {},
   "outputs": [
    {
     "data": {
      "text/plain": [
       "array([0.80457058, 0.80830472, 0.80799926, 0.80553188, 0.80659003])"
      ]
     },
     "execution_count": 48,
     "metadata": {},
     "output_type": "execute_result"
    }
   ],
   "source": [
    "#cross val score of Random forest model\n",
    "from sklearn.model_selection import cross_val_score\n",
    "cross_val_score(Random_forest_model, X_train, y_train, cv=5, scoring='recall_macro')"
   ]
  },
  {
   "cell_type": "code",
   "execution_count": 49,
   "id": "5ec70023",
   "metadata": {},
   "outputs": [
    {
     "name": "stdout",
     "output_type": "stream",
     "text": [
      "F1 score of Random forest model is  0.8166626854622799\n",
      "Precision of Random forest model is  0.8802806656938518\n",
      "Recall of Random forest model is  0.8123731915372693\n"
     ]
    }
   ],
   "source": [
    "#performance metrics of Random Forest model\n",
    "from sklearn.metrics import accuracy_score, f1_score, precision_score, recall_score, classification_report, confusion_matrix\n",
    "print('F1 score of Random forest model is ',f1_score(y_test, rf_predicted, average=\"macro\"))\n",
    "print('Precision of Random forest model is ',precision_score(y_test, rf_predicted, average=\"macro\"))\n",
    "print('Recall of Random forest model is ',recall_score(y_test, rf_predicted, average=\"macro\"))"
   ]
  },
  {
   "cell_type": "code",
   "execution_count": 50,
   "id": "e19bda4b",
   "metadata": {},
   "outputs": [
    {
     "name": "stdout",
     "output_type": "stream",
     "text": [
      "precision: [0.9994763  0.76108503]\n",
      "recall: [0.62502047 0.99972591]\n",
      "fscore: [0.76909128 0.8642341 ]\n",
      "support: [12214 14594]\n"
     ]
    }
   ],
   "source": [
    "#performance metrics class-wise of Random Forest model\n",
    "from sklearn.metrics import precision_recall_fscore_support as score\n",
    "precision, recall, fscore, support = score(y_test, rf_predicted)\n",
    "\n",
    "print('precision: {}'.format(precision))\n",
    "print('recall: {}'.format(recall))\n",
    "print('fscore: {}'.format(fscore))\n",
    "print('support: {}'.format(support))"
   ]
  },
  {
   "cell_type": "code",
   "execution_count": 51,
   "id": "eaad8a26",
   "metadata": {},
   "outputs": [
    {
     "name": "stdout",
     "output_type": "stream",
     "text": [
      "              precision    recall  f1-score   support\n",
      "\n",
      "     class 1       1.00      0.63      0.77     12214\n",
      "     class 2       0.76      1.00      0.86     14594\n",
      "\n",
      "    accuracy                           0.83     26808\n",
      "   macro avg       0.88      0.81      0.82     26808\n",
      "weighted avg       0.87      0.83      0.82     26808\n",
      "\n"
     ]
    }
   ],
   "source": [
    "#classification report of random forest model\n",
    "target_names = ['class 1', 'class 2']\n",
    "print(classification_report(y_test, rf_predicted, target_names=target_names))"
   ]
  },
  {
   "cell_type": "markdown",
   "id": "02771d1b",
   "metadata": {},
   "source": [
    "## Analyzing the KNN model"
   ]
  },
  {
   "cell_type": "code",
   "execution_count": 52,
   "id": "f4d86a79",
   "metadata": {},
   "outputs": [
    {
     "name": "stdout",
     "output_type": "stream",
     "text": [
      "Confusion matrix\n",
      "\n",
      " [[ 7622  4592]\n",
      " [   11 14583]]\n",
      "\n",
      "True Positives(TP) =  7622\n",
      "\n",
      "True Negatives(TN) =  14583\n",
      "\n",
      "False Positives(FP) =  4592\n",
      "\n",
      "False Negatives(FN) =  11\n"
     ]
    }
   ],
   "source": [
    "#confusion matrix of KNN model\n",
    "from sklearn.metrics import confusion_matrix\n",
    "cm = confusion_matrix(y_test, knn_pred)\n",
    "print('Confusion matrix\\n\\n', cm)\n",
    "print('\\nTrue Positives(TP) = ', cm[0,0])\n",
    "print('\\nTrue Negatives(TN) = ', cm[1,1])\n",
    "print('\\nFalse Positives(FP) = ', cm[0,1])\n",
    "print('\\nFalse Negatives(FN) = ', cm[1,0])"
   ]
  },
  {
   "cell_type": "code",
   "execution_count": 53,
   "id": "a0a40478",
   "metadata": {},
   "outputs": [
    {
     "data": {
      "image/png": "[encoded data removed]",
      "text/plain": [
       "<Figure size 1080x720 with 1 Axes>"
      ]
     },
     "metadata": {
      "needs_background": "light"
     },
     "output_type": "display_data"
    }
   ],
   "source": [
    "confusio_matrix(y_test,rf_predicted)"
   ]
  },
  {
   "cell_type": "code",
   "execution_count": 54,
   "id": "4e240f1a",
   "metadata": {},
   "outputs": [
    {
     "data": {
      "image/png": "[encoded data removed]",
      "text/plain": [
       "<Figure size 432x288 with 1 Axes>"
      ]
     },
     "metadata": {
      "needs_background": "light"
     },
     "output_type": "display_data"
    }
   ],
   "source": [
    "#ROC curve of KNN model\n",
    "from sklearn.metrics import RocCurveDisplay\n",
    "KNN_disp = RocCurveDisplay.from_estimator(knn_model, X_test, y_test)"
   ]
  },
  {
   "cell_type": "code",
   "execution_count": 55,
   "id": "527127a4",
   "metadata": {},
   "outputs": [
    {
     "data": {
      "text/plain": [
       "array([0.80407016, 0.80784841, 0.8075241 , 0.80497941, 0.80625704])"
      ]
     },
     "execution_count": 55,
     "metadata": {},
     "output_type": "execute_result"
    }
   ],
   "source": [
    "#cross val score of KNN model\n",
    "from sklearn.model_selection import cross_val_score\n",
    "cross_val_score(knn_model, X_train, y_train, cv=5, scoring='recall_macro')"
   ]
  },
  {
   "cell_type": "code",
   "execution_count": 56,
   "id": "3df7a090",
   "metadata": {},
   "outputs": [
    {
     "name": "stdout",
     "output_type": "stream",
     "text": [
      "F1 score of KNN is  0.8158836655688605\n",
      "Precision of KNN is  0.8795402007101873\n",
      "Recall of KNN is  0.8116421273906639\n"
     ]
    }
   ],
   "source": [
    "#performance metrics of KNN model\n",
    "from sklearn.metrics import accuracy_score, f1_score, precision_score, recall_score, classification_report, confusion_matrix\n",
    "print('F1 score of KNN is ',f1_score(y_test, knn_pred, average=\"macro\"))\n",
    "print('Precision of KNN is ',precision_score(y_test, knn_pred, average=\"macro\"))\n",
    "print('Recall of KNN is ',recall_score(y_test, knn_pred, average=\"macro\"))"
   ]
  },
  {
   "cell_type": "code",
   "execution_count": 57,
   "id": "9dd0654b",
   "metadata": {},
   "outputs": [
    {
     "name": "stdout",
     "output_type": "stream",
     "text": [
      "              precision    recall  f1-score   support\n",
      "\n",
      "     class 1       1.00      0.62      0.77     12214\n",
      "     class 2       0.76      1.00      0.86     14594\n",
      "\n",
      "    accuracy                           0.83     26808\n",
      "   macro avg       0.88      0.81      0.82     26808\n",
      "weighted avg       0.87      0.83      0.82     26808\n",
      "\n"
     ]
    }
   ],
   "source": [
    "#classification report of KNN model\n",
    "target_names = ['class 1', 'class 2']\n",
    "print(classification_report(y_test, knn_pred, target_names=target_names))"
   ]
  },
  {
   "cell_type": "code",
   "execution_count": 58,
   "id": "28f2d2bd",
   "metadata": {},
   "outputs": [],
   "source": [
    "knn_accuracy=(knn_model.score(X_test,y_test))\n",
    "des_tree_accuracy=(Des_tree_model.score(X_test,y_test))\n",
    "random_forest_accuracy=(Random_forest_model.score(X_test,y_test))"
   ]
  },
  {
   "cell_type": "code",
   "execution_count": 59,
   "id": "9587c6c6",
   "metadata": {},
   "outputs": [
    {
     "data": {
      "image/png": "[encoded data removed]",
      "text/plain": [
       "<Figure size 1080x720 with 1 Axes>"
      ]
     },
     "metadata": {
      "needs_background": "light"
     },
     "output_type": "display_data"
    }
   ],
   "source": [
    "N=3\n",
    "ind = np.arange(N) \n",
    "width = 0.1\n",
    "plt.figure(figsize=(15,10))     \n",
    "height = [knn_accuracy*100,des_tree_accuracy*100,random_forest_accuracy*100]\n",
    "bars = ('KNN','Decision Tree', 'Random Forest')\n",
    "x_pos = np.arange(len(bars))\n",
    "\n",
    "# Create bars with different colors\n",
    "plt.bar(x_pos, height)\n",
    "\n",
    "# Create names on the x-axis\n",
    "plt.xticks(x_pos, bars)\n",
    "plt.ylabel('Scores')\n",
    "plt.title('Models')\n",
    "plt.xticks(ind + width , ('KNN','Decision Tree', 'Random Forest'))\n",
    "# plt.legend(loc='best')\n",
    "plt.show()"
   ]
  },
  {
   "cell_type": "markdown",
   "id": "84538bc9",
   "metadata": {},
   "source": [
    "# Saving the model"
   ]
  },
  {
   "cell_type": "code",
   "execution_count": 60,
   "id": "ccd7a0ba",
   "metadata": {},
   "outputs": [],
   "source": [
    "import pickle\n",
    "# save the model to disk\n",
    "filename = 'model_static.sav'\n",
    "pickle.dump(Random_forest_model, open(filename, 'wb'))"
   ]
  },
  {
   "cell_type": "code",
   "execution_count": 61,
   "id": "8befb097",
   "metadata": {},
   "outputs": [
    {
     "name": "stdout",
     "output_type": "stream",
     "text": [
      "0.8290062667860341\n"
     ]
    }
   ],
   "source": [
    "# load the model from disk\n",
    "loaded_model = pickle.load(open(filename, 'rb'))\n",
    "result = loaded_model.score(X_test, y_test)\n",
    "print(result)"
   ]
  }
 ],
 "metadata": {
  "kernelspec": {
   "display_name": "Python 3.9.5 64-bit",
   "language": "python",
   "name": "python3"
  },
  "language_info": {
   "codemirror_mode": {
    "name": "ipython",
    "version": 3
   },
   "file_extension": ".py",
   "mimetype": "text/x-python",
   "name": "python",
   "nbconvert_exporter": "python",
   "pygments_lexer": "ipython3",
   "version": "3.9.5"
  },
  "vscode": {
   "interpreter": {
    "hash": "87d9b9d1e678527538d8142a74b02950316a4861c664997bcf14b93b840e5ec0"
   }
  }
 },
 "nbformat": 4,
 "nbformat_minor": 5
}
