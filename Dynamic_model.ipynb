{
 "cells": [
  {
   "cell_type": "markdown",
   "metadata": {},
   "source": [
    "# Importing Modules"
   ]
  },
  {
   "cell_type": "code",
   "execution_count": 10,
   "metadata": {},
   "outputs": [],
   "source": [
    "from kafka import KafkaConsumer\n",
    "import pandas as pd\n",
    "import numpy as np\n",
    "import pandas as pd\n",
    "import numpy as np\n",
    "import matplotlib.pyplot as plt # for data visualization purposes\n",
    "import seaborn as sns # for statistical data visualization\n",
    "from sklearn.model_selection import train_test_split\n",
    "from sklearn.feature_extraction import FeatureHasher\n",
    "from sklearn.metrics import plot_confusion_matrix\n",
    "from sklearn.metrics import confusion_matrix\n",
    "import pickle\n",
    "from sklearn.ensemble import RandomForestClassifier"
   ]
  },
  {
   "cell_type": "markdown",
   "metadata": {},
   "source": [
    "# Initializing consumer and arrays"
   ]
  },
  {
   "cell_type": "code",
   "execution_count": 11,
   "metadata": {},
   "outputs": [],
   "source": [
    "consumer = KafkaConsumer(\n",
    "    'ml-raw-dns',\n",
    "    bootstrap_servers=\"localhost:9092\",\n",
    "    auto_offset_reset='earliest',\n",
    "    enable_auto_commit=False\n",
    ")\n",
    "\n",
    "Static_accuracy_array=[]\n",
    "dynamic_accuracy_array=[]  \n",
    "Static_predicted_array=[]\n",
    "Dynamic_predicted_array=[]"
   ]
  },
  {
   "cell_type": "markdown",
   "metadata": {},
   "source": [
    "# Iterator which takes a window of 1000"
   ]
  },
  {
   "cell_type": "code",
   "execution_count": 12,
   "metadata": {},
   "outputs": [
    {
     "name": "stdout",
     "output_type": "stream",
     "text": [
      "This is window  1\n",
      "Static accuracy 0.89\n",
      "dynamic_accuracy 0.885\n",
      "This is window  2\n",
      "Static accuracy 0.84\n",
      "dynamic_accuracy 0.84\n",
      "This is window  3\n",
      "Static accuracy 0.86\n",
      "dynamic_accuracy 0.85\n",
      "This is window  4\n",
      "Static accuracy 0.86\n",
      "dynamic_accuracy 0.855\n",
      "This is window  5\n",
      "Static accuracy 0.86\n",
      "dynamic_accuracy 0.86\n",
      "This is window  6\n",
      "Static accuracy 0.81\n",
      "dynamic_accuracy 0.805\n",
      "This is window  7\n",
      "Static accuracy 0.82\n",
      "dynamic_accuracy 0.82\n",
      "This is window  8\n",
      "Static accuracy 0.825\n",
      "dynamic_accuracy 0.825\n",
      "This is window  9\n",
      "Static accuracy 0.785\n",
      "dynamic_accuracy 0.785\n",
      "Static accuracies  [0.89, 0.84, 0.86, 0.86, 0.86, 0.81, 0.82, 0.825, 0.785]\n",
      "dynamic accuracies  [0.885, 0.84, 0.85, 0.855, 0.86, 0.805, 0.82, 0.825, 0.785]\n"
     ]
    }
   ],
   "source": [
    "for iteration in range(1,10):   # number of windows\n",
    "    print('This is window ',iteration) \n",
    "    Consumer_iteration=[]\n",
    "    Loop_number=0\n",
    "    empty_Arr=[]\n",
    "    df2=pd.DataFrame(columns=['timestamp','FQDN_count','subdomain_length','upper','lower','numeric','entropy','special','labels','labels_max','labels_average','longest_word','sld','len','subdomain','Target Attack']) # initializing dataframe\n",
    "    df2.drop(df2.index, inplace=True)\n",
    "    for Consumer_record in consumer:\n",
    "        if(Loop_number>((iteration*1000)+100) and Loop_number <= ((iteration+1)*1000)+100):\n",
    "            Consumer_iteration.append(Consumer_record)\n",
    "        # making a window of 1000\n",
    "        if(Loop_number==((iteration+1)*1000)+100): \n",
    "            break\n",
    "        Loop_number=Loop_number+1\n",
    "    # Clening and appending the data\n",
    "    for Loop_number in range(0,1000): \n",
    "        Data_line=(Consumer_iteration[Loop_number][6]).decode(\"utf-8\")\n",
    "        Data_line=Data_line[2:-3]\n",
    "        Data_line=Data_line.split(\",\")\n",
    "        empty_Arr.append(Data_line)\n",
    "    for Loop_number in range(0,len(empty_Arr)):\n",
    "        df2 = df2.append(pd.Series(empty_Arr[Loop_number], index=['timestamp','FQDN_count','subdomain_length','upper','lower','numeric','entropy','special','labels','labels_max','labels_average','longest_word','sld','len','subdomain','Target Attack']), \n",
    "            ignore_index=True)\n",
    "    # Extracting the features and making the dataset\n",
    "    fh = FeatureHasher(n_features=3, input_type='string')\n",
    "    hashed1 = fh.transform(df2[['timestamp']].astype(str).values)\n",
    "    hashed1 = pd.DataFrame(hashed1.todense())\n",
    "    hashed1.columns = ['timestamp_fh'+str(i) for i in hashed1.columns]\n",
    "    hashed2 = fh.transform(df2[['longest_word']].astype(str).values)\n",
    "    hashed2 = pd.DataFrame(hashed2.todense())\n",
    "    hashed2.columns = ['longest_word_fh'+str(i) for i in hashed2.columns]\n",
    "    hashed3 = fh.transform(df2[['sld']].astype(str).values)\n",
    "    hashed3 = pd.DataFrame(hashed3.todense())\n",
    "    hashed3.columns = ['sld_fh'+str(i) for i in hashed3.columns]\n",
    "    df_1 = pd.concat([df2,hashed1,hashed2,hashed3],axis=1)\n",
    "    X =df_1.drop([\"timestamp\", \"longest_word\", \"sld\", \"Target Attack\"], axis = 1)\n",
    "    y = df2[\"Target Attack\"]\n",
    "    y=y.astype(float)\n",
    "\n",
    "    #choose best features for training\n",
    "    train_labels = X[['subdomain_length', 'lower', 'numeric', 'special', 'labels_max', 'len',\n",
    "        'longest_word_fh0', 'longest_word_fh1', 'sld_fh0', 'sld_fh1',\n",
    "        'sld_fh2']]\n",
    "    train_labels = train_labels.astype(float)\n",
    "    X_train, X_test, y_train, y_test = train_test_split(train_labels,y ,\n",
    "                                   random_state=104, \n",
    "                                   test_size=0.20, \n",
    "                                   shuffle=True)\n",
    "    \n",
    "    filename_Static = 'model_static.sav'\n",
    "\n",
    "    #Loading the Static model\n",
    "    Static_model = pickle.load(open(filename_Static, 'rb'))\n",
    "    Static_result = Static_model.score(X_test, y_test)\n",
    "    Static_accuracy_array.append(Static_result)\n",
    "    Static_predicted=Static_model.predict(X_test)\n",
    "    Static_predicted_array.append(Static_predicted)\n",
    "    print('Static accuracy',Static_result)\n",
    "\n",
    "    \n",
    "    filename_Dynamic = 'model_dynamic.sav'\n",
    "    #making the dynamic model \n",
    "    Dynamic_model = RandomForestClassifier(n_estimators=300)\n",
    "    Dynamic_model.fit(X_train, y_train)\n",
    "    Dynamic_predicted = Dynamic_model.predict(X_test)\n",
    "    Dynamic_result=Dynamic_model.score(X_test,y_test)\n",
    "    dynamic_accuracy_array.append(Dynamic_result)\n",
    "    Dynamic_predicted_array.append(Dynamic_predicted)\n",
    "    print('dynamic_accuracy',Dynamic_result)\n",
    "\n",
    "    # Saving the model if the accuracy is better than the Static model\n",
    "    if(Dynamic_result>Static_result):\n",
    "        filename = filename_Dynamic\n",
    "        pickle.dump(Dynamic_model, open(filename, 'wb'))\n",
    "    \n",
    "    \n",
    "\n",
    "    \n",
    "print(\"Static accuracies \",Static_accuracy_array)\n",
    "print(\"dynamic accuracies \",dynamic_accuracy_array)\n",
    "    "
   ]
  },
  {
   "cell_type": "markdown",
   "metadata": {},
   "source": [
    "# Metrics Evaluation"
   ]
  },
  {
   "cell_type": "markdown",
   "metadata": {},
   "source": [
    "## Plotting Graphs of accuracies"
   ]
  },
  {
   "cell_type": "code",
   "execution_count": 13,
   "metadata": {},
   "outputs": [
    {
     "data": {
      "image/png": "[encoded data removed]",
      "text/plain": [
       "<Figure size 432x288 with 1 Axes>"
      ]
     },
     "metadata": {
      "needs_background": "light"
     },
     "output_type": "display_data"
    }
   ],
   "source": [
    "plt.plot(Static_accuracy_array, label = \"Static Model\")\n",
    "plt.plot(dynamic_accuracy_array,label = \"Dynamic Model\")\n",
    "plt.legend()\n",
    "plt.show()"
   ]
  },
  {
   "cell_type": "markdown",
   "metadata": {},
   "source": [
    "## Precision, Recall, Fscore, support of best dynamic model and static model"
   ]
  },
  {
   "cell_type": "markdown",
   "metadata": {},
   "source": [
    "### Dynamic Model"
   ]
  },
  {
   "cell_type": "code",
   "execution_count": 14,
   "metadata": {},
   "outputs": [
    {
     "name": "stdout",
     "output_type": "stream",
     "text": [
      "precision: [0.453125   0.51470588]\n",
      "recall: [0.30526316 0.66666667]\n",
      "fscore: [0.36477987 0.58091286]\n",
      "support: [ 95 105]\n"
     ]
    }
   ],
   "source": [
    "from sklearn.metrics import precision_recall_fscore_support as score\n",
    "# saving Precision, Recall, Fscore of the best model\n",
    "precision, recall, fscore, support = score(y_test, Dynamic_predicted_array[dynamic_accuracy_array.index(max(dynamic_accuracy_array))])\n",
    "\n",
    "print('precision: {}'.format(precision))\n",
    "print('recall: {}'.format(recall))\n",
    "print('fscore: {}'.format(fscore))\n",
    "print('support: {}'.format(support))"
   ]
  },
  {
   "cell_type": "markdown",
   "metadata": {},
   "source": [
    "### Static Model"
   ]
  },
  {
   "cell_type": "code",
   "execution_count": 15,
   "metadata": {},
   "outputs": [
    {
     "name": "stdout",
     "output_type": "stream",
     "text": [
      "precision: [0.44262295 0.51079137]\n",
      "recall: [0.28421053 0.67619048]\n",
      "fscore: [0.34615385 0.58196721]\n",
      "support: [ 95 105]\n"
     ]
    }
   ],
   "source": [
    "precision, recall, fscore, support = score(y_test, Static_predicted_array[Static_accuracy_array.index(max(Static_accuracy_array))])\n",
    "\n",
    "print('precision: {}'.format(precision))\n",
    "print('recall: {}'.format(recall))\n",
    "print('fscore: {}'.format(fscore))\n",
    "print('support: {}'.format(support))"
   ]
  },
  {
   "cell_type": "markdown",
   "metadata": {},
   "source": [
    "# Plotting Confusion Matrix of best models"
   ]
  },
  {
   "cell_type": "code",
   "execution_count": 16,
   "metadata": {},
   "outputs": [],
   "source": [
    "def conf_matrix(y_test, pred,title):\n",
    "  cm = confusion_matrix(y_test, pred)\n",
    "  plt.figure(figsize=(15,10))\n",
    "  plt.clf()\n",
    "  plt.imshow(cm, interpolation='nearest', cmap=plt.cm.Wistia)\n",
    "  classNames = ['Negative','Positive']\n",
    "  plt.title(title)\n",
    "  plt.ylabel('True label')\n",
    "  plt.xlabel('Predicted label')\n",
    "  tick_marks = np.arange(len(classNames))\n",
    "  plt.xticks(tick_marks, classNames, rotation=45)\n",
    "  plt.yticks(tick_marks, classNames)\n",
    "  s = [['TN','FP'], ['FN', 'TP']]\n",
    "  \n",
    "  for i in range(2):\n",
    "      for j in range(2):\n",
    "          plt.text(j,i, str(s[i][j])+\" = \"+str(cm[i][j]))\n",
    "  plt.show()"
   ]
  },
  {
   "cell_type": "markdown",
   "metadata": {},
   "source": [
    "### Best Dynamic model"
   ]
  },
  {
   "cell_type": "code",
   "execution_count": 17,
   "metadata": {},
   "outputs": [
    {
     "data": {
      "image/png": "[encoded data removed]",
      "text/plain": [
       "<Figure size 1080x720 with 1 Axes>"
      ]
     },
     "metadata": {
      "needs_background": "light"
     },
     "output_type": "display_data"
    }
   ],
   "source": [
    "conf_matrix(y_test,Dynamic_predicted_array[dynamic_accuracy_array.index(max(dynamic_accuracy_array))],'Dynamic model confusion matrix')"
   ]
  },
  {
   "cell_type": "markdown",
   "metadata": {},
   "source": [
    "### Best window for Static model"
   ]
  },
  {
   "cell_type": "code",
   "execution_count": 18,
   "metadata": {},
   "outputs": [
    {
     "data": {
      "image/png": "[encoded data removed]",
      "text/plain": [
       "<Figure size 1080x720 with 1 Axes>"
      ]
     },
     "metadata": {
      "needs_background": "light"
     },
     "output_type": "display_data"
    }
   ],
   "source": [
    "conf_matrix(y_test,Static_predicted_array[Static_accuracy_array.index(max(Static_accuracy_array))],'Static model confusion matrix')"
   ]
  }
 ],
 "metadata": {
  "kernelspec": {
   "display_name": "Python 3.9.5 64-bit",
   "language": "python",
   "name": "python3"
  },
  "language_info": {
   "codemirror_mode": {
    "name": "ipython",
    "version": 3
   },
   "file_extension": ".py",
   "mimetype": "text/x-python",
   "name": "python",
   "nbconvert_exporter": "python",
   "pygments_lexer": "ipython3",
   "version": "3.9.5"
  },
  "orig_nbformat": 4,
  "vscode": {
   "interpreter": {
    "hash": "87d9b9d1e678527538d8142a74b02950316a4861c664997bcf14b93b840e5ec0"
   }
  }
 },
 "nbformat": 4,
 "nbformat_minor": 2
}
